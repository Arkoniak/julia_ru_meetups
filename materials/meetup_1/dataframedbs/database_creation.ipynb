{
 "cells": [
  {
   "cell_type": "code",
   "execution_count": 1,
   "metadata": {},
   "outputs": [],
   "source": [
    "using CSV"
   ]
  },
  {
   "cell_type": "code",
   "execution_count": 2,
   "metadata": {},
   "outputs": [],
   "source": [
    "using DataFrameDBs"
   ]
  },
  {
   "cell_type": "code",
   "execution_count": 63,
   "metadata": {},
   "outputs": [],
   "source": [
    "using Dates"
   ]
  },
  {
   "cell_type": "code",
   "execution_count": 88,
   "metadata": {},
   "outputs": [],
   "source": [
    "using Statistics"
   ]
  },
  {
   "cell_type": "code",
   "execution_count": 15,
   "metadata": {},
   "outputs": [],
   "source": [
    "ENV[\"COLUMNS\"] = 1000;"
   ]
  },
  {
   "cell_type": "markdown",
   "metadata": {},
   "source": [
    "## Создадим таблицу и загрум в нее данные из csv\n",
    "\n",
    "Т.к. исходный файл большой, то используем CSV.Rows, т.е. импортируем построчно не загружая весь csv в память. Минус - изначально все поля у нас будут иметь тип `Union{Missing, String}`\n",
    "\n",
    "Источник данных - https://www.kaggle.com/mkechinov/ecommerce-behavior-data-from-multi-category-store"
   ]
  },
  {
   "cell_type": "code",
   "execution_count": 138,
   "metadata": {},
   "outputs": [
    {
     "name": "stderr",
     "output_type": "stream",
     "text": [
      "Time: \u001b[0m\u001b[1m0:08:22.6584\u001b[22m written: \u001b[0m\u001b[1m67.5 MRows\u001b[22m (\u001b[0m\u001b[1m134.29 KRows/sec\u001b[22m), uncompressed size: \u001b[0m\u001b[1m10.09 GB\u001b[22m, compressed size: \u001b[0m\u001b[1m3.77 GB\u001b[22m, compression ratio: \u001b[0m\u001b[1m2.68\u001b[22mm2mm\n"
     ]
    },
    {
     "name": "stdout",
     "output_type": "stream",
     "text": [
      "DFTable path: ecommerce\n",
      "10×6 DataFrame"
     ]
    },
    {
     "data": {
      "text/plain": []
     },
     "execution_count": 138,
     "metadata": {},
     "output_type": "execute_result"
    },
    {
     "name": "stdout",
     "output_type": "stream",
     "text": [
      "\n",
      "│ Row │ column        │ type                   │ rows       │ uncompressed size │ compressed size │ compression ratio │\n",
      "│     │ \u001b[90mSymbol\u001b[39m        │ \u001b[90mString\u001b[39m                 │ \u001b[90mString\u001b[39m     │ \u001b[90mString\u001b[39m            │ \u001b[90mString\u001b[39m          │ \u001b[90mFloat64\u001b[39m           │\n",
      "├─────┼───────────────┼────────────────────────┼────────────┼───────────────────┼─────────────────┼───────────────────┤\n",
      "│ 1   │ event_time    │ Union{Missing, String} │ 67.5 MRows │ 1.7 GB            │ 30.41 MB        │ 57.16             │\n",
      "│ 2   │ event_type    │ Union{Missing, String} │ 67.5 MRows │ 518.5 MB          │ 28.03 MB        │ 18.5              │\n",
      "│ 3   │ product_id    │ Union{Missing, String} │ 67.5 MRows │ 735.72 MB         │ 390.22 MB       │ 1.89              │\n",
      "│ 4   │ category_id   │ Union{Missing, String} │ 67.5 MRows │ 1.45 GB           │ 263.31 MB       │ 5.62              │\n",
      "│ 5   │ category_code │ Union{Missing, String} │ 67.5 MRows │ 1.2 GB            │ 290.52 MB       │ 4.23              │\n",
      "│ 6   │ brand         │ Union{Missing, String} │ 67.5 MRows │ 588.95 MB         │ 259.34 MB       │ 2.27              │\n",
      "│ 7   │ price         │ Union{Missing, String} │ 67.5 MRows │ 623.53 MB         │ 334.09 MB       │ 1.87              │\n",
      "│ 8   │ user_id       │ Union{Missing, String} │ 67.5 MRows │ 836.88 MB         │ 397.28 MB       │ 2.11              │\n",
      "│ 9   │ user_session  │ Union{Missing, String} │ 67.5 MRows │ 2.51 GB           │ 1.82 GB         │ 1.38              │\n",
      "│ 10  │ Table total   │                        │ 67.5 MRows │ 10.09 GB          │ 3.77 GB         │ 2.68              │\n"
     ]
    }
   ],
   "source": [
    "table = create_table(\"ecommerce\", from = CSV.Rows(\"nov.csv\", reuse_row=true), show_progress=true)"
   ]
  },
  {
   "cell_type": "markdown",
   "metadata": {},
   "source": [
    "Мы уже сжали данные в 2 раза (пока только за счет компрессии lz2). В табличке выше колонки описаны столбцы таблицы в `DataFrameDBs` c типами, занимаемым объемом до сжатия и после сжатия"
   ]
  },
  {
   "cell_type": "markdown",
   "metadata": {},
   "source": [
    "Можно посмотреть на содержимое таблицы"
   ]
  },
  {
   "cell_type": "code",
   "execution_count": 139,
   "metadata": {},
   "outputs": [
    {
     "data": {
      "text/html": [
       "<table class=\"data-frame\"><thead><tr><th></th><th>event_time</th><th>event_type</th><th>product_id</th><th>category_id</th><th>category_code</th><th>brand</th><th>price</th><th>user_id</th><th>user_session</th></tr><tr><th></th><th>String?</th><th>String?</th><th>String?</th><th>String?</th><th>String?</th><th>String?</th><th>String?</th><th>String?</th><th>String?</th></tr></thead><tbody><p>10 rows × 9 columns</p><tr><th>1</th><td>2019-11-01 00:00:00 UTC</td><td>view</td><td>1003461</td><td>2053013555631882655</td><td>electronics.smartphone</td><td>xiaomi</td><td>489.07</td><td>520088904</td><td>4d3b30da-a5e4-49df-b1a8-ba5943f1dd33</td></tr><tr><th>2</th><td>2019-11-01 00:00:00 UTC</td><td>view</td><td>5000088</td><td>2053013566100866035</td><td>appliances.sewing_machine</td><td>janome</td><td>293.65</td><td>530496790</td><td>8e5f4f83-366c-4f70-860e-ca7417414283</td></tr><tr><th>3</th><td>2019-11-01 00:00:01 UTC</td><td>view</td><td>17302664</td><td>2053013553853497655</td><td><em>missing</em></td><td>creed</td><td>28.31</td><td>561587266</td><td>755422e7-9040-477b-9bd2-6a6e8fd97387</td></tr><tr><th>4</th><td>2019-11-01 00:00:01 UTC</td><td>view</td><td>3601530</td><td>2053013563810775923</td><td>appliances.kitchen.washer</td><td>lg</td><td>712.87</td><td>518085591</td><td>3bfb58cd-7892-48cc-8020-2f17e6de6e7f</td></tr><tr><th>5</th><td>2019-11-01 00:00:01 UTC</td><td>view</td><td>1004775</td><td>2053013555631882655</td><td>electronics.smartphone</td><td>xiaomi</td><td>183.27</td><td>558856683</td><td>313628f1-68b8-460d-84f6-cec7a8796ef2</td></tr><tr><th>6</th><td>2019-11-01 00:00:01 UTC</td><td>view</td><td>1306894</td><td>2053013558920217191</td><td>computers.notebook</td><td>hp</td><td>360.09</td><td>520772685</td><td>816a59f3-f5ae-4ccd-9b23-82aa8c23d33c</td></tr><tr><th>7</th><td>2019-11-01 00:00:01 UTC</td><td>view</td><td>1306421</td><td>2053013558920217191</td><td>computers.notebook</td><td>hp</td><td>514.56</td><td>514028527</td><td>df8184cc-3694-4549-8c8c-6b5171877376</td></tr><tr><th>8</th><td>2019-11-01 00:00:02 UTC</td><td>view</td><td>15900065</td><td>2053013558190408249</td><td><em>missing</em></td><td>rondell</td><td>30.86</td><td>518574284</td><td>5e6ef132-4d7c-4730-8c7f-85aa4082588f</td></tr><tr><th>9</th><td>2019-11-01 00:00:02 UTC</td><td>view</td><td>12708937</td><td>2053013553559896355</td><td><em>missing</em></td><td>michelin</td><td>72.72</td><td>532364121</td><td>0a899268-31eb-46de-898d-09b2da950b24</td></tr><tr><th>10</th><td>2019-11-01 00:00:02 UTC</td><td>view</td><td>1004258</td><td>2053013555631882655</td><td>electronics.smartphone</td><td>apple</td><td>732.07</td><td>532647354</td><td>d2d3d2c6-631d-489e-9fb5-06f340b85be0</td></tr></tbody></table>"
      ],
      "text/latex": [
       "\\begin{tabular}{r|ccccccccc}\n",
       "\t& event\\_time & event\\_type & product\\_id & category\\_id & category\\_code & brand & price & user\\_id & user\\_session\\\\\n",
       "\t\\hline\n",
       "\t& String? & String? & String? & String? & String? & String? & String? & String? & String?\\\\\n",
       "\t\\hline\n",
       "\t1 & 2019-11-01 00:00:00 UTC & view & 1003461 & 2053013555631882655 & electronics.smartphone & xiaomi & 489.07 & 520088904 & 4d3b30da-a5e4-49df-b1a8-ba5943f1dd33 \\\\\n",
       "\t2 & 2019-11-01 00:00:00 UTC & view & 5000088 & 2053013566100866035 & appliances.sewing\\_machine & janome & 293.65 & 530496790 & 8e5f4f83-366c-4f70-860e-ca7417414283 \\\\\n",
       "\t3 & 2019-11-01 00:00:01 UTC & view & 17302664 & 2053013553853497655 & \\emph{missing} & creed & 28.31 & 561587266 & 755422e7-9040-477b-9bd2-6a6e8fd97387 \\\\\n",
       "\t4 & 2019-11-01 00:00:01 UTC & view & 3601530 & 2053013563810775923 & appliances.kitchen.washer & lg & 712.87 & 518085591 & 3bfb58cd-7892-48cc-8020-2f17e6de6e7f \\\\\n",
       "\t5 & 2019-11-01 00:00:01 UTC & view & 1004775 & 2053013555631882655 & electronics.smartphone & xiaomi & 183.27 & 558856683 & 313628f1-68b8-460d-84f6-cec7a8796ef2 \\\\\n",
       "\t6 & 2019-11-01 00:00:01 UTC & view & 1306894 & 2053013558920217191 & computers.notebook & hp & 360.09 & 520772685 & 816a59f3-f5ae-4ccd-9b23-82aa8c23d33c \\\\\n",
       "\t7 & 2019-11-01 00:00:01 UTC & view & 1306421 & 2053013558920217191 & computers.notebook & hp & 514.56 & 514028527 & df8184cc-3694-4549-8c8c-6b5171877376 \\\\\n",
       "\t8 & 2019-11-01 00:00:02 UTC & view & 15900065 & 2053013558190408249 & \\emph{missing} & rondell & 30.86 & 518574284 & 5e6ef132-4d7c-4730-8c7f-85aa4082588f \\\\\n",
       "\t9 & 2019-11-01 00:00:02 UTC & view & 12708937 & 2053013553559896355 & \\emph{missing} & michelin & 72.72 & 532364121 & 0a899268-31eb-46de-898d-09b2da950b24 \\\\\n",
       "\t10 & 2019-11-01 00:00:02 UTC & view & 1004258 & 2053013555631882655 & electronics.smartphone & apple & 732.07 & 532647354 & d2d3d2c6-631d-489e-9fb5-06f340b85be0 \\\\\n",
       "\\end{tabular}\n"
      ],
      "text/plain": [
       "10×9 DataFrame\n",
       "│ Row │ event_time              │ event_type │ product_id │ category_id         │ category_code             │ brand    │ price   │ user_id   │ user_session                         │\n",
       "│     │ \u001b[90mUnion{Missing, String}\u001b[39m  │ \u001b[90mString?\u001b[39m    │ \u001b[90mString?\u001b[39m    │ \u001b[90mString?\u001b[39m             │ \u001b[90mUnion{Missing, String}\u001b[39m    │ \u001b[90mString?\u001b[39m  │ \u001b[90mString?\u001b[39m │ \u001b[90mString?\u001b[39m   │ \u001b[90mUnion{Missing, String}\u001b[39m               │\n",
       "├─────┼─────────────────────────┼────────────┼────────────┼─────────────────────┼───────────────────────────┼──────────┼─────────┼───────────┼──────────────────────────────────────┤\n",
       "│ 1   │ 2019-11-01 00:00:00 UTC │ view       │ 1003461    │ 2053013555631882655 │ electronics.smartphone    │ xiaomi   │ 489.07  │ 520088904 │ 4d3b30da-a5e4-49df-b1a8-ba5943f1dd33 │\n",
       "│ 2   │ 2019-11-01 00:00:00 UTC │ view       │ 5000088    │ 2053013566100866035 │ appliances.sewing_machine │ janome   │ 293.65  │ 530496790 │ 8e5f4f83-366c-4f70-860e-ca7417414283 │\n",
       "│ 3   │ 2019-11-01 00:00:01 UTC │ view       │ 17302664   │ 2053013553853497655 │ \u001b[90mmissing\u001b[39m                   │ creed    │ 28.31   │ 561587266 │ 755422e7-9040-477b-9bd2-6a6e8fd97387 │\n",
       "│ 4   │ 2019-11-01 00:00:01 UTC │ view       │ 3601530    │ 2053013563810775923 │ appliances.kitchen.washer │ lg       │ 712.87  │ 518085591 │ 3bfb58cd-7892-48cc-8020-2f17e6de6e7f │\n",
       "│ 5   │ 2019-11-01 00:00:01 UTC │ view       │ 1004775    │ 2053013555631882655 │ electronics.smartphone    │ xiaomi   │ 183.27  │ 558856683 │ 313628f1-68b8-460d-84f6-cec7a8796ef2 │\n",
       "│ 6   │ 2019-11-01 00:00:01 UTC │ view       │ 1306894    │ 2053013558920217191 │ computers.notebook        │ hp       │ 360.09  │ 520772685 │ 816a59f3-f5ae-4ccd-9b23-82aa8c23d33c │\n",
       "│ 7   │ 2019-11-01 00:00:01 UTC │ view       │ 1306421    │ 2053013558920217191 │ computers.notebook        │ hp       │ 514.56  │ 514028527 │ df8184cc-3694-4549-8c8c-6b5171877376 │\n",
       "│ 8   │ 2019-11-01 00:00:02 UTC │ view       │ 15900065   │ 2053013558190408249 │ \u001b[90mmissing\u001b[39m                   │ rondell  │ 30.86   │ 518574284 │ 5e6ef132-4d7c-4730-8c7f-85aa4082588f │\n",
       "│ 9   │ 2019-11-01 00:00:02 UTC │ view       │ 12708937   │ 2053013553559896355 │ \u001b[90mmissing\u001b[39m                   │ michelin │ 72.72   │ 532364121 │ 0a899268-31eb-46de-898d-09b2da950b24 │\n",
       "│ 10  │ 2019-11-01 00:00:02 UTC │ view       │ 1004258    │ 2053013555631882655 │ electronics.smartphone    │ apple    │ 732.07  │ 532647354 │ d2d3d2c6-631d-489e-9fb5-06f340b85be0 │"
      ]
     },
     "execution_count": 139,
     "metadata": {},
     "output_type": "execute_result"
    }
   ],
   "source": [
    "head(table)"
   ]
  },
  {
   "cell_type": "markdown",
   "metadata": {},
   "source": [
    "* включим отображение прогресса на все запросы к таблице"
   ]
  },
  {
   "cell_type": "code",
   "execution_count": 140,
   "metadata": {},
   "outputs": [],
   "source": [
    "turnon_progress!(table);"
   ]
  },
  {
   "cell_type": "markdown",
   "metadata": {},
   "source": [
    "## Займемся конвертацией данных в правильные типы"
   ]
  },
  {
   "cell_type": "markdown",
   "metadata": {},
   "source": [
    "## category_id в Int64"
   ]
  },
  {
   "cell_type": "markdown",
   "metadata": {},
   "source": [
    "* проверим есть ли `missing` в этом поле"
   ]
  },
  {
   "cell_type": "code",
   "execution_count": 141,
   "metadata": {},
   "outputs": [
    {
     "name": "stderr",
     "output_type": "stream",
     "text": [
      "Time: \u001b[0m\u001b[1m0:00:22.7751\u001b[22m read: \u001b[0m\u001b[1m67.5 MRows\u001b[22m (\u001b[0m\u001b[1m2.96 MRows/sec\u001b[22m))\u001b[0m\u001b[1m0:00:0.2580\u001b[22m read: \u001b[0m\u001b[1m458.75 KRows\u001b[22m (\u001b[0m\u001b[1m1.78 MRows/sec\u001b[22m)\u001b[0m\u001b[1m0:00:1.0602\u001b[22m read: \u001b[0m\u001b[1m2.42 MRows\u001b[22m (\u001b[0m\u001b[1m2.29 MRows/sec\u001b[22m)\u001b[0m\u001b[1m0:00:2.0825\u001b[22m read: \u001b[0m\u001b[1m5.11 MRows\u001b[22m (\u001b[0m\u001b[1m2.45 MRows/sec\u001b[22m)\u001b[0m\u001b[1m0:00:2.4012\u001b[22m read: \u001b[0m\u001b[1m6.03 MRows\u001b[22m (\u001b[0m\u001b[1m2.51 MRows/sec\u001b[22m)\u001b[0m\u001b[1m0:00:2.7223\u001b[22m read: \u001b[0m\u001b[1m6.95 MRows\u001b[22m (\u001b[0m\u001b[1m2.55 MRows/sec\u001b[22m)\u001b[0m\u001b[1m0:00:3.0458\u001b[22m read: \u001b[0m\u001b[1m7.86 MRows\u001b[22m (\u001b[0m\u001b[1m2.58 MRows/sec\u001b[22m)\u001b[0m\u001b[1m0:00:3.3627\u001b[22m read: \u001b[0m\u001b[1m8.78 MRows\u001b[22m (\u001b[0m\u001b[1m2.61 MRows/sec\u001b[22m)\u001b[0m\u001b[1m0:00:3.6767\u001b[22m read: \u001b[0m\u001b[1m9.7 MRows\u001b[22m (\u001b[0m\u001b[1m2.64 MRows/sec\u001b[22m)\u001b[0m\u001b[1m0:00:3.9910\u001b[22m read: \u001b[0m\u001b[1m10.62 MRows\u001b[22m (\u001b[0m\u001b[1m2.66 MRows/sec\u001b[22m)\u001b[0m\u001b[1m0:00:5.3144\u001b[22m read: \u001b[0m\u001b[1m14.29 MRows\u001b[22m (\u001b[0m\u001b[1m2.69 MRows/sec\u001b[22m)\u001b[0m\u001b[1m0:00:5.6347\u001b[22m read: \u001b[0m\u001b[1m15.2 MRows\u001b[22m (\u001b[0m\u001b[1m2.7 MRows/sec\u001b[22m)\u001b[0m\u001b[1m0:00:5.9658\u001b[22m read: \u001b[0m\u001b[1m16.12 MRows\u001b[22m (\u001b[0m\u001b[1m2.7 MRows/sec\u001b[22m)\u001b[0m\u001b[1m0:00:6.3032\u001b[22m read: \u001b[0m\u001b[1m17.04 MRows\u001b[22m (\u001b[0m\u001b[1m2.7 MRows/sec\u001b[22m)\u001b[0m\u001b[1m0:00:7.1056\u001b[22m read: \u001b[0m\u001b[1m19.33 MRows\u001b[22m (\u001b[0m\u001b[1m2.72 MRows/sec\u001b[22m)\u001b[0m\u001b[1m0:00:7.5669\u001b[22m read: \u001b[0m\u001b[1m20.71 MRows\u001b[22m (\u001b[0m\u001b[1m2.74 MRows/sec\u001b[22m)\u001b[0m\u001b[1m0:00:8.9555\u001b[22m read: \u001b[0m\u001b[1m24.84 MRows\u001b[22m (\u001b[0m\u001b[1m2.77 MRows/sec\u001b[22m)\u001b[0m\u001b[1m0:00:9.4176\u001b[22m read: \u001b[0m\u001b[1m26.21 MRows\u001b[22m (\u001b[0m\u001b[1m2.78 MRows/sec\u001b[22m)\u001b[0m\u001b[1m0:00:9.8796\u001b[22m read: \u001b[0m\u001b[1m27.59 MRows\u001b[22m (\u001b[0m\u001b[1m2.79 MRows/sec\u001b[22m)\u001b[0m\u001b[1m0:00:10.3414\u001b[22m read: \u001b[0m\u001b[1m28.97 MRows\u001b[22m (\u001b[0m\u001b[1m2.8 MRows/sec\u001b[22m)\u001b[0m\u001b[1m0:00:11.1153\u001b[22m read: \u001b[0m\u001b[1m31.26 MRows\u001b[22m (\u001b[0m\u001b[1m2.81 MRows/sec\u001b[22m)\u001b[0m\u001b[1m0:00:11.5597\u001b[22m read: \u001b[0m\u001b[1m32.57 MRows\u001b[22m (\u001b[0m\u001b[1m2.82 MRows/sec\u001b[22m)\u001b[0m\u001b[1m0:00:12.4481\u001b[22m read: \u001b[0m\u001b[1m35.32 MRows\u001b[22m (\u001b[0m\u001b[1m2.84 MRows/sec\u001b[22m)\u001b[0m\u001b[1m0:00:15.9002\u001b[22m read: \u001b[0m\u001b[1m46.27 MRows\u001b[22m (\u001b[0m\u001b[1m2.91 MRows/sec\u001b[22m)\u001b[0m\u001b[1m0:00:18.0752\u001b[22m read: \u001b[0m\u001b[1m53.15 MRows\u001b[22m (\u001b[0m\u001b[1m2.94 MRows/sec\u001b[22m)\u001b[0m\u001b[1m0:00:18.5256\u001b[22m read: \u001b[0m\u001b[1m54.53 MRows\u001b[22m (\u001b[0m\u001b[1m2.94 MRows/sec\u001b[22m)\u001b[0m\u001b[1m0:00:18.9710\u001b[22m read: \u001b[0m\u001b[1m55.9 MRows\u001b[22m (\u001b[0m\u001b[1m2.95 MRows/sec\u001b[22m)\u001b[0m\u001b[1m0:00:20.4309\u001b[22m read: \u001b[0m\u001b[1m60.36 MRows\u001b[22m (\u001b[0m\u001b[1m2.95 MRows/sec\u001b[22m)\n"
     ]
    },
    {
     "data": {
      "text/plain": [
       "0"
      ]
     },
     "execution_count": 141,
     "metadata": {},
     "output_type": "execute_result"
    }
   ],
   "source": [
    "sum(ismissing.(table.category_id))"
   ]
  },
  {
   "cell_type": "markdown",
   "metadata": {},
   "source": [
    "* переименуем `category_id` в `category_id_raw`"
   ]
  },
  {
   "cell_type": "code",
   "execution_count": 142,
   "metadata": {},
   "outputs": [],
   "source": [
    "rename_column!(table, :category_id, :category_id_raw)"
   ]
  },
  {
   "cell_type": "markdown",
   "metadata": {},
   "source": [
    "* создадим колонку с нужным преобразованием"
   ]
  },
  {
   "cell_type": "code",
   "execution_count": 143,
   "metadata": {},
   "outputs": [
    {
     "data": {
      "text/plain": [
       "DFColumn{Int64}"
      ]
     },
     "execution_count": 143,
     "metadata": {},
     "output_type": "execute_result"
    }
   ],
   "source": [
    "c_id = parse.(Int64, table.category_id_raw)"
   ]
  },
  {
   "cell_type": "markdown",
   "metadata": {},
   "source": [
    "* Вставим эту колонку в нашу таблицу под именемен `category_id` при вставке произойдет материализация данных и запись их на диск"
   ]
  },
  {
   "cell_type": "code",
   "execution_count": 145,
   "metadata": {},
   "outputs": [
    {
     "name": "stderr",
     "output_type": "stream",
     "text": [
      "Time: \u001b[0m\u001b[1m0:00:0.2289\u001b[22m read: \u001b[0m\u001b[1m67.5 MRows\u001b[22m (\u001b[0m\u001b[1m294.87 MRows/sec\u001b[22m))\n",
      "Time: \u001b[0m\u001b[1m0:00:0.0723\u001b[22m read: \u001b[0m\u001b[1m67.5 MRows\u001b[22m (\u001b[0m\u001b[1m933.77 MRows/sec\u001b[22m)\n",
      "Time: \u001b[0m\u001b[1m0:00:0.0748\u001b[22m read: \u001b[0m\u001b[1m67.5 MRows\u001b[22m (\u001b[0m\u001b[1m902.5 MRows/sec\u001b[22m)\n",
      "Time: \u001b[0m\u001b[1m0:00:20.7611\u001b[22m read: \u001b[0m\u001b[1m67.5 MRows\u001b[22m (\u001b[0m\u001b[1m3.25 MRows/sec\u001b[22m))\u001b[0m\u001b[1m0:00:0.3674\u001b[22m read: \u001b[0m\u001b[1m1.18 MRows\u001b[22m (\u001b[0m\u001b[1m3.21 MRows/sec\u001b[22m)\u001b[0m\u001b[1m0:00:1.1405\u001b[22m read: \u001b[0m\u001b[1m3.54 MRows\u001b[22m (\u001b[0m\u001b[1m3.1 MRows/sec\u001b[22m)\u001b[0m\u001b[1m0:00:1.7194\u001b[22m read: \u001b[0m\u001b[1m5.31 MRows\u001b[22m (\u001b[0m\u001b[1m3.09 MRows/sec\u001b[22m)\u001b[0m\u001b[1m0:00:2.3678\u001b[22m read: \u001b[0m\u001b[1m7.47 MRows\u001b[22m (\u001b[0m\u001b[1m3.16 MRows/sec\u001b[22m)\u001b[0m\u001b[1m0:00:2.8899\u001b[22m read: \u001b[0m\u001b[1m9.24 MRows\u001b[22m (\u001b[0m\u001b[1m3.2 MRows/sec\u001b[22m)\u001b[0m\u001b[1m0:00:3.5914\u001b[22m read: \u001b[0m\u001b[1m11.34 MRows\u001b[22m (\u001b[0m\u001b[1m3.16 MRows/sec\u001b[22m)\u001b[0m\u001b[1m0:00:4.2340\u001b[22m read: \u001b[0m\u001b[1m13.57 MRows\u001b[22m (\u001b[0m\u001b[1m3.2 MRows/sec\u001b[22m)\u001b[0m\u001b[1m0:00:4.8861\u001b[22m read: \u001b[0m\u001b[1m15.66 MRows\u001b[22m (\u001b[0m\u001b[1m3.21 MRows/sec\u001b[22m)\u001b[0m\u001b[1m0:00:5.5472\u001b[22m read: \u001b[0m\u001b[1m17.89 MRows\u001b[22m (\u001b[0m\u001b[1m3.23 MRows/sec\u001b[22m)\u001b[0m\u001b[1m0:00:6.3297\u001b[22m read: \u001b[0m\u001b[1m20.51 MRows\u001b[22m (\u001b[0m\u001b[1m3.24 MRows/sec\u001b[22m)\u001b[0m\u001b[1m0:00:6.9805\u001b[22m read: \u001b[0m\u001b[1m22.74 MRows\u001b[22m (\u001b[0m\u001b[1m3.26 MRows/sec\u001b[22m)\u001b[0m\u001b[1m0:00:7.7385\u001b[22m read: \u001b[0m\u001b[1m25.3 MRows\u001b[22m (\u001b[0m\u001b[1m3.27 MRows/sec\u001b[22m)\u001b[0m\u001b[1m0:00:8.3889\u001b[22m read: \u001b[0m\u001b[1m27.46 MRows\u001b[22m (\u001b[0m\u001b[1m3.27 MRows/sec\u001b[22m)\u001b[0m\u001b[1m0:00:9.1815\u001b[22m read: \u001b[0m\u001b[1m30.08 MRows\u001b[22m (\u001b[0m\u001b[1m3.28 MRows/sec\u001b[22m)\u001b[0m\u001b[1m0:00:9.8388\u001b[22m read: \u001b[0m\u001b[1m32.18 MRows\u001b[22m (\u001b[0m\u001b[1m3.27 MRows/sec\u001b[22m)\u001b[0m\u001b[1m0:00:10.6200\u001b[22m read: \u001b[0m\u001b[1m34.8 MRows\u001b[22m (\u001b[0m\u001b[1m3.28 MRows/sec\u001b[22m)\u001b[0m\u001b[1m0:00:11.3879\u001b[22m read: \u001b[0m\u001b[1m37.09 MRows\u001b[22m (\u001b[0m\u001b[1m3.26 MRows/sec\u001b[22m)\u001b[0m\u001b[1m0:00:11.9778\u001b[22m read: \u001b[0m\u001b[1m38.67 MRows\u001b[22m (\u001b[0m\u001b[1m3.23 MRows/sec\u001b[22m)\u001b[0m\u001b[1m0:00:12.6258\u001b[22m read: \u001b[0m\u001b[1m40.7 MRows\u001b[22m (\u001b[0m\u001b[1m3.22 MRows/sec\u001b[22m)\u001b[0m\u001b[1m0:00:13.4207\u001b[22m read: \u001b[0m\u001b[1m43.38 MRows\u001b[22m (\u001b[0m\u001b[1m3.23 MRows/sec\u001b[22m)\u001b[0m\u001b[1m0:00:14.3277\u001b[22m read: \u001b[0m\u001b[1m46.33 MRows\u001b[22m (\u001b[0m\u001b[1m3.23 MRows/sec\u001b[22m)\u001b[0m\u001b[1m0:00:14.8847\u001b[22m read: \u001b[0m\u001b[1m48.1 MRows\u001b[22m (\u001b[0m\u001b[1m3.23 MRows/sec\u001b[22m)\u001b[0m\u001b[1m0:00:15.6543\u001b[22m read: \u001b[0m\u001b[1m50.59 MRows\u001b[22m (\u001b[0m\u001b[1m3.23 MRows/sec\u001b[22m)\u001b[0m\u001b[1m0:00:16.2003\u001b[22m read: \u001b[0m\u001b[1m52.43 MRows\u001b[22m (\u001b[0m\u001b[1m3.24 MRows/sec\u001b[22m)\u001b[0m\u001b[1m0:00:16.8421\u001b[22m read: \u001b[0m\u001b[1m54.59 MRows\u001b[22m (\u001b[0m\u001b[1m3.24 MRows/sec\u001b[22m)\u001b[0m\u001b[1m0:00:18.4178\u001b[22m read: \u001b[0m\u001b[1m59.83 MRows\u001b[22m (\u001b[0m\u001b[1m3.25 MRows/sec\u001b[22m)\u001b[0m\u001b[1m0:00:19.6158\u001b[22m read: \u001b[0m\u001b[1m63.77 MRows\u001b[22m (\u001b[0m\u001b[1m3.25 MRows/sec\u001b[22m)\u001b[0m\u001b[1m0:00:20.1554\u001b[22m read: \u001b[0m\u001b[1m65.54 MRows\u001b[22m (\u001b[0m\u001b[1m3.25 MRows/sec\u001b[22m)\n"
     ]
    }
   ],
   "source": [
    "add_column!(table, :category_id, c_id, before=:category_code)"
   ]
  },
  {
   "cell_type": "code",
   "execution_count": 146,
   "metadata": {},
   "outputs": [
    {
     "name": "stderr",
     "output_type": "stream",
     "text": [
      "Time: \u001b[0m\u001b[1m0:00:0.0005\u001b[22m read: \u001b[0m\u001b[1m65.54 KRows\u001b[22m (\u001b[0m\u001b[1m130.09 MRows/sec\u001b[22m)\n",
      "Time: \u001b[0m\u001b[1m0:00:0.0052\u001b[22m read: \u001b[0m\u001b[1m65.54 KRows\u001b[22m (\u001b[0m\u001b[1m12.65 MRows/sec\u001b[22m)\n"
     ]
    },
    {
     "data": {
      "text/html": [
       "<table class=\"data-frame\"><thead><tr><th></th><th>event_time</th><th>event_type</th><th>product_id</th><th>category_id_raw</th><th>category_id</th><th>category_code</th><th>brand</th><th>price</th><th>user_id</th><th>user_session</th></tr><tr><th></th><th>String?</th><th>String?</th><th>String?</th><th>String?</th><th>Int64</th><th>String?</th><th>String?</th><th>String?</th><th>String?</th><th>String?</th></tr></thead><tbody><p>10 rows × 10 columns</p><tr><th>1</th><td>2019-11-01 00:00:00 UTC</td><td>view</td><td>1003461</td><td>2053013555631882655</td><td>2053013555631882655</td><td>electronics.smartphone</td><td>xiaomi</td><td>489.07</td><td>520088904</td><td>4d3b30da-a5e4-49df-b1a8-ba5943f1dd33</td></tr><tr><th>2</th><td>2019-11-01 00:00:00 UTC</td><td>view</td><td>5000088</td><td>2053013566100866035</td><td>2053013566100866035</td><td>appliances.sewing_machine</td><td>janome</td><td>293.65</td><td>530496790</td><td>8e5f4f83-366c-4f70-860e-ca7417414283</td></tr><tr><th>3</th><td>2019-11-01 00:00:01 UTC</td><td>view</td><td>17302664</td><td>2053013553853497655</td><td>2053013553853497655</td><td><em>missing</em></td><td>creed</td><td>28.31</td><td>561587266</td><td>755422e7-9040-477b-9bd2-6a6e8fd97387</td></tr><tr><th>4</th><td>2019-11-01 00:00:01 UTC</td><td>view</td><td>3601530</td><td>2053013563810775923</td><td>2053013563810775923</td><td>appliances.kitchen.washer</td><td>lg</td><td>712.87</td><td>518085591</td><td>3bfb58cd-7892-48cc-8020-2f17e6de6e7f</td></tr><tr><th>5</th><td>2019-11-01 00:00:01 UTC</td><td>view</td><td>1004775</td><td>2053013555631882655</td><td>2053013555631882655</td><td>electronics.smartphone</td><td>xiaomi</td><td>183.27</td><td>558856683</td><td>313628f1-68b8-460d-84f6-cec7a8796ef2</td></tr><tr><th>6</th><td>2019-11-01 00:00:01 UTC</td><td>view</td><td>1306894</td><td>2053013558920217191</td><td>2053013558920217191</td><td>computers.notebook</td><td>hp</td><td>360.09</td><td>520772685</td><td>816a59f3-f5ae-4ccd-9b23-82aa8c23d33c</td></tr><tr><th>7</th><td>2019-11-01 00:00:01 UTC</td><td>view</td><td>1306421</td><td>2053013558920217191</td><td>2053013558920217191</td><td>computers.notebook</td><td>hp</td><td>514.56</td><td>514028527</td><td>df8184cc-3694-4549-8c8c-6b5171877376</td></tr><tr><th>8</th><td>2019-11-01 00:00:02 UTC</td><td>view</td><td>15900065</td><td>2053013558190408249</td><td>2053013558190408249</td><td><em>missing</em></td><td>rondell</td><td>30.86</td><td>518574284</td><td>5e6ef132-4d7c-4730-8c7f-85aa4082588f</td></tr><tr><th>9</th><td>2019-11-01 00:00:02 UTC</td><td>view</td><td>12708937</td><td>2053013553559896355</td><td>2053013553559896355</td><td><em>missing</em></td><td>michelin</td><td>72.72</td><td>532364121</td><td>0a899268-31eb-46de-898d-09b2da950b24</td></tr><tr><th>10</th><td>2019-11-01 00:00:02 UTC</td><td>view</td><td>1004258</td><td>2053013555631882655</td><td>2053013555631882655</td><td>electronics.smartphone</td><td>apple</td><td>732.07</td><td>532647354</td><td>d2d3d2c6-631d-489e-9fb5-06f340b85be0</td></tr></tbody></table>"
      ],
      "text/latex": [
       "\\begin{tabular}{r|cccccccccc}\n",
       "\t& event\\_time & event\\_type & product\\_id & category\\_id\\_raw & category\\_id & category\\_code & brand & price & user\\_id & user\\_session\\\\\n",
       "\t\\hline\n",
       "\t& String? & String? & String? & String? & Int64 & String? & String? & String? & String? & String?\\\\\n",
       "\t\\hline\n",
       "\t1 & 2019-11-01 00:00:00 UTC & view & 1003461 & 2053013555631882655 & 2053013555631882655 & electronics.smartphone & xiaomi & 489.07 & 520088904 & 4d3b30da-a5e4-49df-b1a8-ba5943f1dd33 \\\\\n",
       "\t2 & 2019-11-01 00:00:00 UTC & view & 5000088 & 2053013566100866035 & 2053013566100866035 & appliances.sewing\\_machine & janome & 293.65 & 530496790 & 8e5f4f83-366c-4f70-860e-ca7417414283 \\\\\n",
       "\t3 & 2019-11-01 00:00:01 UTC & view & 17302664 & 2053013553853497655 & 2053013553853497655 & \\emph{missing} & creed & 28.31 & 561587266 & 755422e7-9040-477b-9bd2-6a6e8fd97387 \\\\\n",
       "\t4 & 2019-11-01 00:00:01 UTC & view & 3601530 & 2053013563810775923 & 2053013563810775923 & appliances.kitchen.washer & lg & 712.87 & 518085591 & 3bfb58cd-7892-48cc-8020-2f17e6de6e7f \\\\\n",
       "\t5 & 2019-11-01 00:00:01 UTC & view & 1004775 & 2053013555631882655 & 2053013555631882655 & electronics.smartphone & xiaomi & 183.27 & 558856683 & 313628f1-68b8-460d-84f6-cec7a8796ef2 \\\\\n",
       "\t6 & 2019-11-01 00:00:01 UTC & view & 1306894 & 2053013558920217191 & 2053013558920217191 & computers.notebook & hp & 360.09 & 520772685 & 816a59f3-f5ae-4ccd-9b23-82aa8c23d33c \\\\\n",
       "\t7 & 2019-11-01 00:00:01 UTC & view & 1306421 & 2053013558920217191 & 2053013558920217191 & computers.notebook & hp & 514.56 & 514028527 & df8184cc-3694-4549-8c8c-6b5171877376 \\\\\n",
       "\t8 & 2019-11-01 00:00:02 UTC & view & 15900065 & 2053013558190408249 & 2053013558190408249 & \\emph{missing} & rondell & 30.86 & 518574284 & 5e6ef132-4d7c-4730-8c7f-85aa4082588f \\\\\n",
       "\t9 & 2019-11-01 00:00:02 UTC & view & 12708937 & 2053013553559896355 & 2053013553559896355 & \\emph{missing} & michelin & 72.72 & 532364121 & 0a899268-31eb-46de-898d-09b2da950b24 \\\\\n",
       "\t10 & 2019-11-01 00:00:02 UTC & view & 1004258 & 2053013555631882655 & 2053013555631882655 & electronics.smartphone & apple & 732.07 & 532647354 & d2d3d2c6-631d-489e-9fb5-06f340b85be0 \\\\\n",
       "\\end{tabular}\n"
      ],
      "text/plain": [
       "10×10 DataFrame\n",
       "│ Row │ event_time              │ event_type │ product_id │ category_id_raw     │ category_id         │ category_code             │ brand    │ price   │ user_id   │ user_session                         │\n",
       "│     │ \u001b[90mUnion{Missing, String}\u001b[39m  │ \u001b[90mString?\u001b[39m    │ \u001b[90mString?\u001b[39m    │ \u001b[90mString?\u001b[39m             │ \u001b[90mInt64\u001b[39m               │ \u001b[90mUnion{Missing, String}\u001b[39m    │ \u001b[90mString?\u001b[39m  │ \u001b[90mString?\u001b[39m │ \u001b[90mString?\u001b[39m   │ \u001b[90mUnion{Missing, String}\u001b[39m               │\n",
       "├─────┼─────────────────────────┼────────────┼────────────┼─────────────────────┼─────────────────────┼───────────────────────────┼──────────┼─────────┼───────────┼──────────────────────────────────────┤\n",
       "│ 1   │ 2019-11-01 00:00:00 UTC │ view       │ 1003461    │ 2053013555631882655 │ 2053013555631882655 │ electronics.smartphone    │ xiaomi   │ 489.07  │ 520088904 │ 4d3b30da-a5e4-49df-b1a8-ba5943f1dd33 │\n",
       "│ 2   │ 2019-11-01 00:00:00 UTC │ view       │ 5000088    │ 2053013566100866035 │ 2053013566100866035 │ appliances.sewing_machine │ janome   │ 293.65  │ 530496790 │ 8e5f4f83-366c-4f70-860e-ca7417414283 │\n",
       "│ 3   │ 2019-11-01 00:00:01 UTC │ view       │ 17302664   │ 2053013553853497655 │ 2053013553853497655 │ \u001b[90mmissing\u001b[39m                   │ creed    │ 28.31   │ 561587266 │ 755422e7-9040-477b-9bd2-6a6e8fd97387 │\n",
       "│ 4   │ 2019-11-01 00:00:01 UTC │ view       │ 3601530    │ 2053013563810775923 │ 2053013563810775923 │ appliances.kitchen.washer │ lg       │ 712.87  │ 518085591 │ 3bfb58cd-7892-48cc-8020-2f17e6de6e7f │\n",
       "│ 5   │ 2019-11-01 00:00:01 UTC │ view       │ 1004775    │ 2053013555631882655 │ 2053013555631882655 │ electronics.smartphone    │ xiaomi   │ 183.27  │ 558856683 │ 313628f1-68b8-460d-84f6-cec7a8796ef2 │\n",
       "│ 6   │ 2019-11-01 00:00:01 UTC │ view       │ 1306894    │ 2053013558920217191 │ 2053013558920217191 │ computers.notebook        │ hp       │ 360.09  │ 520772685 │ 816a59f3-f5ae-4ccd-9b23-82aa8c23d33c │\n",
       "│ 7   │ 2019-11-01 00:00:01 UTC │ view       │ 1306421    │ 2053013558920217191 │ 2053013558920217191 │ computers.notebook        │ hp       │ 514.56  │ 514028527 │ df8184cc-3694-4549-8c8c-6b5171877376 │\n",
       "│ 8   │ 2019-11-01 00:00:02 UTC │ view       │ 15900065   │ 2053013558190408249 │ 2053013558190408249 │ \u001b[90mmissing\u001b[39m                   │ rondell  │ 30.86   │ 518574284 │ 5e6ef132-4d7c-4730-8c7f-85aa4082588f │\n",
       "│ 9   │ 2019-11-01 00:00:02 UTC │ view       │ 12708937   │ 2053013553559896355 │ 2053013553559896355 │ \u001b[90mmissing\u001b[39m                   │ michelin │ 72.72   │ 532364121 │ 0a899268-31eb-46de-898d-09b2da950b24 │\n",
       "│ 10  │ 2019-11-01 00:00:02 UTC │ view       │ 1004258    │ 2053013555631882655 │ 2053013555631882655 │ electronics.smartphone    │ apple    │ 732.07  │ 532647354 │ d2d3d2c6-631d-489e-9fb5-06f340b85be0 │"
      ]
     },
     "execution_count": 146,
     "metadata": {},
     "output_type": "execute_result"
    }
   ],
   "source": [
    "head(table)"
   ]
  },
  {
   "cell_type": "markdown",
   "metadata": {},
   "source": [
    "* удалим `category_id_raw`"
   ]
  },
  {
   "cell_type": "code",
   "execution_count": 147,
   "metadata": {},
   "outputs": [
    {
     "name": "stdout",
     "output_type": "stream",
     "text": [
      "DFTable path: ecommerce\n",
      "10×6 DataFrame"
     ]
    },
    {
     "data": {
      "text/plain": []
     },
     "execution_count": 147,
     "metadata": {},
     "output_type": "execute_result"
    },
    {
     "name": "stdout",
     "output_type": "stream",
     "text": [
      "\n",
      "│ Row │ column        │ type                   │ rows       │ uncompressed size │ compressed size │ compression ratio │\n",
      "│     │ \u001b[90mSymbol\u001b[39m        │ \u001b[90mString\u001b[39m                 │ \u001b[90mString\u001b[39m     │ \u001b[90mString\u001b[39m            │ \u001b[90mString\u001b[39m          │ \u001b[90mFloat64\u001b[39m           │\n",
      "├─────┼───────────────┼────────────────────────┼────────────┼───────────────────┼─────────────────┼───────────────────┤\n",
      "│ 1   │ event_time    │ Union{Missing, String} │ 67.5 MRows │ 1.7 GB            │ 30.41 MB        │ 57.16             │\n",
      "│ 2   │ event_type    │ Union{Missing, String} │ 67.5 MRows │ 518.5 MB          │ 28.03 MB        │ 18.5              │\n",
      "│ 3   │ product_id    │ Union{Missing, String} │ 67.5 MRows │ 735.72 MB         │ 390.22 MB       │ 1.89              │\n",
      "│ 4   │ category_id   │ Int64                  │ 67.5 MRows │ 515.0 MB          │ 184.1 MB        │ 2.8               │\n",
      "│ 5   │ category_code │ Union{Missing, String} │ 67.5 MRows │ 1.2 GB            │ 290.52 MB       │ 4.23              │\n",
      "│ 6   │ brand         │ Union{Missing, String} │ 67.5 MRows │ 588.95 MB         │ 259.34 MB       │ 2.27              │\n",
      "│ 7   │ price         │ Union{Missing, String} │ 67.5 MRows │ 623.53 MB         │ 334.09 MB       │ 1.87              │\n",
      "│ 8   │ user_id       │ Union{Missing, String} │ 67.5 MRows │ 836.88 MB         │ 397.28 MB       │ 2.11              │\n",
      "│ 9   │ user_session  │ Union{Missing, String} │ 67.5 MRows │ 2.51 GB           │ 1.82 GB         │ 1.38              │\n",
      "│ 10  │ Table total   │                        │ 67.5 MRows │ 9.14 GB           │ 3.69 GB         │ 2.48              │\n"
     ]
    }
   ],
   "source": [
    "drop_column!(table, :category_id_raw)"
   ]
  },
  {
   "cell_type": "markdown",
   "metadata": {},
   "source": [
    "## product_id, user_id и price сделаем по аналогии"
   ]
  },
  {
   "cell_type": "code",
   "execution_count": 148,
   "metadata": {},
   "outputs": [],
   "source": [
    "rename_column!(table, :product_id, :product_id_raw)\n",
    "rename_column!(table, :user_id, :user_id_raw)\n",
    "rename_column!(table, :price, :price_raw);\n"
   ]
  },
  {
   "cell_type": "code",
   "execution_count": 149,
   "metadata": {},
   "outputs": [
    {
     "name": "stderr",
     "output_type": "stream",
     "text": [
      "Time: \u001b[0m\u001b[1m0:00:0.0798\u001b[22m read: \u001b[0m\u001b[1m67.5 MRows\u001b[22m (\u001b[0m\u001b[1m845.45 MRows/sec\u001b[22m)\n",
      "Time: \u001b[0m\u001b[1m0:00:0.0813\u001b[22m read: \u001b[0m\u001b[1m67.5 MRows\u001b[22m (\u001b[0m\u001b[1m830.24 MRows/sec\u001b[22m)\n",
      "Time: \u001b[0m\u001b[1m0:00:0.0804\u001b[22m read: \u001b[0m\u001b[1m67.5 MRows\u001b[22m (\u001b[0m\u001b[1m839.33 MRows/sec\u001b[22m)\n",
      "Time: \u001b[0m\u001b[1m0:00:17.7338\u001b[22m read: \u001b[0m\u001b[1m67.5 MRows\u001b[22m (\u001b[0m\u001b[1m3.81 MRows/sec\u001b[22m))\u001b[0m\u001b[1m0:00:1.2558\u001b[22m read: \u001b[0m\u001b[1m4.72 MRows\u001b[22m (\u001b[0m\u001b[1m3.76 MRows/sec\u001b[22m)\u001b[0m\u001b[1m0:00:1.9062\u001b[22m read: \u001b[0m\u001b[1m7.21 MRows\u001b[22m (\u001b[0m\u001b[1m3.78 MRows/sec\u001b[22m)\u001b[0m\u001b[1m0:00:2.6635\u001b[22m read: \u001b[0m\u001b[1m10.09 MRows\u001b[22m (\u001b[0m\u001b[1m3.79 MRows/sec\u001b[22m)\u001b[0m\u001b[1m0:00:3.4088\u001b[22m read: \u001b[0m\u001b[1m12.98 MRows\u001b[22m (\u001b[0m\u001b[1m3.81 MRows/sec\u001b[22m)\u001b[0m\u001b[1m0:00:5.6867\u001b[22m read: \u001b[0m\u001b[1m20.19 MRows\u001b[22m (\u001b[0m\u001b[1m3.55 MRows/sec\u001b[22m)\u001b[0m\u001b[1m0:00:6.3297\u001b[22m read: \u001b[0m\u001b[1m22.81 MRows\u001b[22m (\u001b[0m\u001b[1m3.6 MRows/sec\u001b[22m)\u001b[0m\u001b[1m0:00:6.9746\u001b[22m read: \u001b[0m\u001b[1m25.43 MRows\u001b[22m (\u001b[0m\u001b[1m3.65 MRows/sec\u001b[22m)\u001b[0m\u001b[1m0:00:7.7255\u001b[22m read: \u001b[0m\u001b[1m28.38 MRows\u001b[22m (\u001b[0m\u001b[1m3.67 MRows/sec\u001b[22m)\u001b[0m\u001b[1m0:00:8.3678\u001b[22m read: \u001b[0m\u001b[1m30.87 MRows\u001b[22m (\u001b[0m\u001b[1m3.69 MRows/sec\u001b[22m)\u001b[0m\u001b[1m0:00:9.0181\u001b[22m read: \u001b[0m\u001b[1m33.42 MRows\u001b[22m (\u001b[0m\u001b[1m3.71 MRows/sec\u001b[22m)\u001b[0m\u001b[1m0:00:9.8924\u001b[22m read: \u001b[0m\u001b[1m36.96 MRows\u001b[22m (\u001b[0m\u001b[1m3.74 MRows/sec\u001b[22m)\u001b[0m\u001b[1m0:00:10.7563\u001b[22m read: \u001b[0m\u001b[1m40.37 MRows\u001b[22m (\u001b[0m\u001b[1m3.75 MRows/sec\u001b[22m)\u001b[0m\u001b[1m0:00:11.3003\u001b[22m read: \u001b[0m\u001b[1m42.47 MRows\u001b[22m (\u001b[0m\u001b[1m3.76 MRows/sec\u001b[22m)\u001b[0m\u001b[1m0:00:11.9604\u001b[22m read: \u001b[0m\u001b[1m45.09 MRows\u001b[22m (\u001b[0m\u001b[1m3.77 MRows/sec\u001b[22m)\u001b[0m\u001b[1m0:00:12.4895\u001b[22m read: \u001b[0m\u001b[1m47.19 MRows\u001b[22m (\u001b[0m\u001b[1m3.78 MRows/sec\u001b[22m)\u001b[0m\u001b[1m0:00:13.3673\u001b[22m read: \u001b[0m\u001b[1m50.53 MRows\u001b[22m (\u001b[0m\u001b[1m3.78 MRows/sec\u001b[22m)\u001b[0m\u001b[1m0:00:13.8972\u001b[22m read: \u001b[0m\u001b[1m52.63 MRows\u001b[22m (\u001b[0m\u001b[1m3.79 MRows/sec\u001b[22m)\u001b[0m\u001b[1m0:00:14.5450\u001b[22m read: \u001b[0m\u001b[1m55.25 MRows\u001b[22m (\u001b[0m\u001b[1m3.8 MRows/sec\u001b[22m)\u001b[0m\u001b[1m0:00:15.2039\u001b[22m read: \u001b[0m\u001b[1m57.87 MRows\u001b[22m (\u001b[0m\u001b[1m3.81 MRows/sec\u001b[22m)\u001b[0m\u001b[1m0:00:15.8677\u001b[22m read: \u001b[0m\u001b[1m60.49 MRows\u001b[22m (\u001b[0m\u001b[1m3.81 MRows/sec\u001b[22m)\u001b[0m\u001b[1m0:00:16.7404\u001b[22m read: \u001b[0m\u001b[1m63.77 MRows\u001b[22m (\u001b[0m\u001b[1m3.81 MRows/sec\u001b[22m)\u001b[0m\u001b[1m0:00:17.1770\u001b[22m read: \u001b[0m\u001b[1m65.34 MRows\u001b[22m (\u001b[0m\u001b[1m3.8 MRows/sec\u001b[22m)\n"
     ]
    }
   ],
   "source": [
    "add_column!(table, :product_id, parse.(Int64, table.product_id_raw), before=:category_id)"
   ]
  },
  {
   "cell_type": "code",
   "execution_count": 150,
   "metadata": {},
   "outputs": [
    {
     "name": "stderr",
     "output_type": "stream",
     "text": [
      "Time: \u001b[0m\u001b[1m0:00:0.0960\u001b[22m read: \u001b[0m\u001b[1m67.5 MRows\u001b[22m (\u001b[0m\u001b[1m702.98 MRows/sec\u001b[22m)\n",
      "Time: \u001b[0m\u001b[1m0:00:0.0770\u001b[22m read: \u001b[0m\u001b[1m67.5 MRows\u001b[22m (\u001b[0m\u001b[1m876.82 MRows/sec\u001b[22m)\n",
      "Time: \u001b[0m\u001b[1m0:00:0.4288\u001b[22m read: \u001b[0m\u001b[1m67.5 MRows\u001b[22m (\u001b[0m\u001b[1m157.42 MRows/sec\u001b[22m))\n",
      "Time: \u001b[0m\u001b[1m0:00:17.4726\u001b[22m read: \u001b[0m\u001b[1m67.5 MRows\u001b[22m (\u001b[0m\u001b[1m3.86 MRows/sec\u001b[22m))\u001b[0m\u001b[1m0:00:0.6323\u001b[22m read: \u001b[0m\u001b[1m2.69 MRows\u001b[22m (\u001b[0m\u001b[1m4.25 MRows/sec\u001b[22m)\u001b[0m\u001b[1m0:00:1.7353\u001b[22m read: \u001b[0m\u001b[1m7.27 MRows\u001b[22m (\u001b[0m\u001b[1m4.19 MRows/sec\u001b[22m)\u001b[0m\u001b[1m0:00:2.6966\u001b[22m read: \u001b[0m\u001b[1m11.27 MRows\u001b[22m (\u001b[0m\u001b[1m4.18 MRows/sec\u001b[22m)\u001b[0m\u001b[1m0:00:3.5608\u001b[22m read: \u001b[0m\u001b[1m14.61 MRows\u001b[22m (\u001b[0m\u001b[1m4.1 MRows/sec\u001b[22m)\u001b[0m\u001b[1m0:00:4.2003\u001b[22m read: \u001b[0m\u001b[1m17.24 MRows\u001b[22m (\u001b[0m\u001b[1m4.1 MRows/sec\u001b[22m)\u001b[0m\u001b[1m0:00:5.0496\u001b[22m read: \u001b[0m\u001b[1m20.71 MRows\u001b[22m (\u001b[0m\u001b[1m4.1 MRows/sec\u001b[22m)\u001b[0m\u001b[1m0:00:6.0426\u001b[22m read: \u001b[0m\u001b[1m24.64 MRows\u001b[22m (\u001b[0m\u001b[1m4.08 MRows/sec\u001b[22m)\u001b[0m\u001b[1m0:00:6.7014\u001b[22m read: \u001b[0m\u001b[1m27.2 MRows\u001b[22m (\u001b[0m\u001b[1m4.06 MRows/sec\u001b[22m)\u001b[0m\u001b[1m0:00:8.4749\u001b[22m read: \u001b[0m\u001b[1m33.95 MRows\u001b[22m (\u001b[0m\u001b[1m4.01 MRows/sec\u001b[22m)\u001b[0m\u001b[1m0:00:8.9028\u001b[22m read: \u001b[0m\u001b[1m35.52 MRows\u001b[22m (\u001b[0m\u001b[1m3.99 MRows/sec\u001b[22m)\u001b[0m\u001b[1m0:00:10.0454\u001b[22m read: \u001b[0m\u001b[1m39.45 MRows\u001b[22m (\u001b[0m\u001b[1m3.93 MRows/sec\u001b[22m)\u001b[0m\u001b[1m0:00:11.0427\u001b[22m read: \u001b[0m\u001b[1m43.19 MRows\u001b[22m (\u001b[0m\u001b[1m3.91 MRows/sec\u001b[22m)\u001b[0m\u001b[1m0:00:11.5536\u001b[22m read: \u001b[0m\u001b[1m45.02 MRows\u001b[22m (\u001b[0m\u001b[1m3.9 MRows/sec\u001b[22m)\u001b[0m\u001b[1m0:00:12.3815\u001b[22m read: \u001b[0m\u001b[1m47.84 MRows\u001b[22m (\u001b[0m\u001b[1m3.86 MRows/sec\u001b[22m)\u001b[0m\u001b[1m0:00:13.0023\u001b[22m read: \u001b[0m\u001b[1m50.07 MRows\u001b[22m (\u001b[0m\u001b[1m3.85 MRows/sec\u001b[22m)\u001b[0m\u001b[1m0:00:13.9107\u001b[22m read: \u001b[0m\u001b[1m53.54 MRows\u001b[22m (\u001b[0m\u001b[1m3.85 MRows/sec\u001b[22m)\u001b[0m\u001b[1m0:00:15.6548\u001b[22m read: \u001b[0m\u001b[1m60.29 MRows\u001b[22m (\u001b[0m\u001b[1m3.85 MRows/sec\u001b[22m)\u001b[0m\u001b[1m0:00:16.3996\u001b[22m read: \u001b[0m\u001b[1m63.31 MRows\u001b[22m (\u001b[0m\u001b[1m3.86 MRows/sec\u001b[22m)\n"
     ]
    }
   ],
   "source": [
    "add_column!(table, :user_id, parse.(Int64, table.user_id_raw), before=:user_session)"
   ]
  },
  {
   "cell_type": "code",
   "execution_count": 151,
   "metadata": {},
   "outputs": [
    {
     "name": "stderr",
     "output_type": "stream",
     "text": [
      "Time: \u001b[0m\u001b[1m0:00:0.2257\u001b[22m read: \u001b[0m\u001b[1m67.5 MRows\u001b[22m (\u001b[0m\u001b[1m299.07 MRows/sec\u001b[22m))\n",
      "Time: \u001b[0m\u001b[1m0:00:0.0772\u001b[22m read: \u001b[0m\u001b[1m67.5 MRows\u001b[22m (\u001b[0m\u001b[1m873.95 MRows/sec\u001b[22m)\n",
      "Time: \u001b[0m\u001b[1m0:00:0.4271\u001b[22m read: \u001b[0m\u001b[1m67.5 MRows\u001b[22m (\u001b[0m\u001b[1m158.03 MRows/sec\u001b[22m))\n",
      "Time: \u001b[0m\u001b[1m0:00:15.3469\u001b[22m read: \u001b[0m\u001b[1m67.5 MRows\u001b[22m (\u001b[0m\u001b[1m4.4 MRows/sec\u001b[22m)m)\u001b[0m\u001b[1m0:00:0.8671\u001b[22m read: \u001b[0m\u001b[1m3.87 MRows\u001b[22m (\u001b[0m\u001b[1m4.46 MRows/sec\u001b[22m)\u001b[0m\u001b[1m0:00:1.2916\u001b[22m read: \u001b[0m\u001b[1m5.64 MRows\u001b[22m (\u001b[0m\u001b[1m4.36 MRows/sec\u001b[22m)\u001b[0m\u001b[1m0:00:1.9300\u001b[22m read: \u001b[0m\u001b[1m8.59 MRows\u001b[22m (\u001b[0m\u001b[1m4.45 MRows/sec\u001b[22m)\u001b[0m\u001b[1m0:00:2.9188\u001b[22m read: \u001b[0m\u001b[1m12.98 MRows\u001b[22m (\u001b[0m\u001b[1m4.45 MRows/sec\u001b[22m)\u001b[0m\u001b[1m0:00:3.6552\u001b[22m read: \u001b[0m\u001b[1m16.19 MRows\u001b[22m (\u001b[0m\u001b[1m4.43 MRows/sec\u001b[22m)\u001b[0m\u001b[1m0:00:4.4045\u001b[22m read: \u001b[0m\u001b[1m19.66 MRows\u001b[22m (\u001b[0m\u001b[1m4.46 MRows/sec\u001b[22m)\u001b[0m\u001b[1m0:00:5.0300\u001b[22m read: \u001b[0m\u001b[1m22.48 MRows\u001b[22m (\u001b[0m\u001b[1m4.47 MRows/sec\u001b[22m)\u001b[0m\u001b[1m0:00:6.1326\u001b[22m read: \u001b[0m\u001b[1m27.39 MRows\u001b[22m (\u001b[0m\u001b[1m4.47 MRows/sec\u001b[22m)\u001b[0m\u001b[1m0:00:6.7678\u001b[22m read: \u001b[0m\u001b[1m30.21 MRows\u001b[22m (\u001b[0m\u001b[1m4.46 MRows/sec\u001b[22m)\u001b[0m\u001b[1m0:00:7.4002\u001b[22m read: \u001b[0m\u001b[1m32.9 MRows\u001b[22m (\u001b[0m\u001b[1m4.45 MRows/sec\u001b[22m)\u001b[0m\u001b[1m0:00:8.1459\u001b[22m read: \u001b[0m\u001b[1m36.18 MRows\u001b[22m (\u001b[0m\u001b[1m4.44 MRows/sec\u001b[22m)\u001b[0m\u001b[1m0:00:9.0269\u001b[22m read: \u001b[0m\u001b[1m40.04 MRows\u001b[22m (\u001b[0m\u001b[1m4.44 MRows/sec\u001b[22m)\u001b[0m\u001b[1m0:00:9.5544\u001b[22m read: \u001b[0m\u001b[1m42.47 MRows\u001b[22m (\u001b[0m\u001b[1m4.44 MRows/sec\u001b[22m)\u001b[0m\u001b[1m0:00:10.1779\u001b[22m read: \u001b[0m\u001b[1m45.35 MRows\u001b[22m (\u001b[0m\u001b[1m4.46 MRows/sec\u001b[22m)\u001b[0m\u001b[1m0:00:11.0337\u001b[22m read: \u001b[0m\u001b[1m48.96 MRows\u001b[22m (\u001b[0m\u001b[1m4.44 MRows/sec\u001b[22m)\u001b[0m\u001b[1m0:00:12.0169\u001b[22m read: \u001b[0m\u001b[1m53.08 MRows\u001b[22m (\u001b[0m\u001b[1m4.42 MRows/sec\u001b[22m)\u001b[0m\u001b[1m0:00:12.6504\u001b[22m read: \u001b[0m\u001b[1m55.77 MRows\u001b[22m (\u001b[0m\u001b[1m4.41 MRows/sec\u001b[22m)\u001b[0m\u001b[1m0:00:13.5379\u001b[22m read: \u001b[0m\u001b[1m59.57 MRows\u001b[22m (\u001b[0m\u001b[1m4.4 MRows/sec\u001b[22m)\u001b[0m\u001b[1m0:00:14.2646\u001b[22m read: \u001b[0m\u001b[1m62.78 MRows\u001b[22m (\u001b[0m\u001b[1m4.4 MRows/sec\u001b[22m)\u001b[0m\u001b[1m0:00:14.9334\u001b[22m read: \u001b[0m\u001b[1m65.73 MRows\u001b[22m (\u001b[0m\u001b[1m4.4 MRows/sec\u001b[22m)\n"
     ]
    }
   ],
   "source": [
    "add_column!(table, :price, parse.(Float64, table.price_raw), before=:user_id)"
   ]
  },
  {
   "cell_type": "code",
   "execution_count": 152,
   "metadata": {},
   "outputs": [],
   "source": [
    "drop_column!(table, :product_id_raw)\n",
    "drop_column!(table, :user_id_raw)\n",
    "drop_column!(table, :price_raw);"
   ]
  },
  {
   "cell_type": "markdown",
   "metadata": {},
   "source": [
    "## event_time в DateTime"
   ]
  },
  {
   "cell_type": "code",
   "execution_count": 153,
   "metadata": {},
   "outputs": [],
   "source": [
    "rename_column!(table, :event_time, :event_time_raw)"
   ]
  },
  {
   "cell_type": "markdown",
   "metadata": {},
   "source": [
    "* посмотрим на то в каком оно формате в csv"
   ]
  },
  {
   "cell_type": "code",
   "execution_count": 154,
   "metadata": {},
   "outputs": [
    {
     "name": "stderr",
     "output_type": "stream",
     "text": [
      "Time: \u001b[0m\u001b[1m0:00:0.0005\u001b[22m read: \u001b[0m\u001b[1m65.54 KRows\u001b[22m (\u001b[0m\u001b[1m126.22 MRows/sec\u001b[22m)\n"
     ]
    },
    {
     "data": {
      "text/plain": [
       "10-element Vector{Union{Missing, String}}:\n",
       " \"2019-11-01 00:00:00 UTC\"\n",
       " \"2019-11-01 00:00:00 UTC\"\n",
       " \"2019-11-01 00:00:01 UTC\"\n",
       " \"2019-11-01 00:00:01 UTC\"\n",
       " \"2019-11-01 00:00:01 UTC\"\n",
       " \"2019-11-01 00:00:01 UTC\"\n",
       " \"2019-11-01 00:00:01 UTC\"\n",
       " \"2019-11-01 00:00:02 UTC\"\n",
       " \"2019-11-01 00:00:02 UTC\"\n",
       " \"2019-11-01 00:00:02 UTC\""
      ]
     },
     "execution_count": 154,
     "metadata": {},
     "output_type": "execute_result"
    }
   ],
   "source": [
    "materialize(table.event_time_raw[1:10])"
   ]
  },
  {
   "cell_type": "markdown",
   "metadata": {},
   "source": [
    "* напишим функцию конвертации"
   ]
  },
  {
   "cell_type": "code",
   "execution_count": 155,
   "metadata": {},
   "outputs": [
    {
     "name": "stdout",
     "output_type": "stream",
     "text": [
      "2019-11-01 00:00:00 UTC->2019-11-01T00:00:00\n"
     ]
    }
   ],
   "source": [
    "date_convert(s) = DateTime(parse.(Int64, SubString.(s, (1:4, 6:7, 9:10, 12:13, 15:16, 18:19)))...)\n",
    "s = \"2019-11-01 00:00:00 UTC\"\n",
    "println(s, \"->\", date_convert(s))"
   ]
  },
  {
   "cell_type": "code",
   "execution_count": 156,
   "metadata": {},
   "outputs": [
    {
     "data": {
      "text/plain": [
       "DFColumn{DateTime}"
      ]
     },
     "execution_count": 156,
     "metadata": {},
     "output_type": "execute_result"
    }
   ],
   "source": [
    "tmp = date_convert.(table.event_time_raw)"
   ]
  },
  {
   "cell_type": "code",
   "execution_count": 157,
   "metadata": {},
   "outputs": [
    {
     "name": "stderr",
     "output_type": "stream",
     "text": [
      "Time: \u001b[0m\u001b[1m0:00:0.0805\u001b[22m read: \u001b[0m\u001b[1m67.5 MRows\u001b[22m (\u001b[0m\u001b[1m838.52 MRows/sec\u001b[22m)\n",
      "Time: \u001b[0m\u001b[1m0:00:0.0679\u001b[22m read: \u001b[0m\u001b[1m67.5 MRows\u001b[22m (\u001b[0m\u001b[1m993.41 MRows/sec\u001b[22m)\n",
      "Time: \u001b[0m\u001b[1m0:00:0.0714\u001b[22m read: \u001b[0m\u001b[1m67.5 MRows\u001b[22m (\u001b[0m\u001b[1m944.79 MRows/sec\u001b[22m)\n",
      "Time: \u001b[0m\u001b[1m0:01:2.9321\u001b[22m read: \u001b[0m\u001b[1m67.5 MRows\u001b[22m (\u001b[0m\u001b[1m1.07 MRows/sec\u001b[22m)))\u001b[0m\u001b[1m0:00:0.3094\u001b[22m read: \u001b[0m\u001b[1m393.22 KRows\u001b[22m (\u001b[0m\u001b[1m1.27 MRows/sec\u001b[22m)\u001b[0m\u001b[1m0:00:0.6891\u001b[22m read: \u001b[0m\u001b[1m786.43 KRows\u001b[22m (\u001b[0m\u001b[1m1.14 MRows/sec\u001b[22m)\u001b[0m\u001b[1m0:00:1.0504\u001b[22m read: \u001b[0m\u001b[1m1.18 MRows\u001b[22m (\u001b[0m\u001b[1m1.12 MRows/sec\u001b[22m)\u001b[0m\u001b[1m0:00:1.4041\u001b[22m read: \u001b[0m\u001b[1m1.57 MRows\u001b[22m (\u001b[0m\u001b[1m1.12 MRows/sec\u001b[22m)\u001b[0m\u001b[1m0:00:1.7908\u001b[22m read: \u001b[0m\u001b[1m1.97 MRows\u001b[22m (\u001b[0m\u001b[1m1.1 MRows/sec\u001b[22m)\u001b[0m\u001b[1m0:00:2.2145\u001b[22m read: \u001b[0m\u001b[1m2.36 MRows\u001b[22m (\u001b[0m\u001b[1m1.07 MRows/sec\u001b[22m)\u001b[0m\u001b[1m0:00:2.5553\u001b[22m read: \u001b[0m\u001b[1m2.75 MRows\u001b[22m (\u001b[0m\u001b[1m1.08 MRows/sec\u001b[22m)\u001b[0m\u001b[1m0:00:2.9033\u001b[22m read: \u001b[0m\u001b[1m3.15 MRows\u001b[22m (\u001b[0m\u001b[1m1.08 MRows/sec\u001b[22m)\u001b[0m\u001b[1m0:00:3.2496\u001b[22m read: \u001b[0m\u001b[1m3.54 MRows\u001b[22m (\u001b[0m\u001b[1m1.09 MRows/sec\u001b[22m)\u001b[0m\u001b[1m0:00:3.5942\u001b[22m read: \u001b[0m\u001b[1m3.93 MRows\u001b[22m (\u001b[0m\u001b[1m1.09 MRows/sec\u001b[22m)\u001b[0m\u001b[1m0:00:3.9753\u001b[22m read: \u001b[0m\u001b[1m4.33 MRows\u001b[22m (\u001b[0m\u001b[1m1.09 MRows/sec\u001b[22m)\u001b[0m\u001b[1m0:00:4.3257\u001b[22m read: \u001b[0m\u001b[1m4.72 MRows\u001b[22m (\u001b[0m\u001b[1m1.09 MRows/sec\u001b[22m)\u001b[0m\u001b[1m0:00:4.6956\u001b[22m read: \u001b[0m\u001b[1m5.11 MRows\u001b[22m (\u001b[0m\u001b[1m1.09 MRows/sec\u001b[22m)\u001b[0m\u001b[1m0:00:5.0951\u001b[22m read: \u001b[0m\u001b[1m5.51 MRows\u001b[22m (\u001b[0m\u001b[1m1.08 MRows/sec\u001b[22m)\u001b[0m\u001b[1m0:00:5.4973\u001b[22m read: \u001b[0m\u001b[1m5.9 MRows\u001b[22m (\u001b[0m\u001b[1m1.07 MRows/sec\u001b[22m)\u001b[0m\u001b[1m0:00:6.0884\u001b[22m read: \u001b[0m\u001b[1m6.49 MRows\u001b[22m (\u001b[0m\u001b[1m1.07 MRows/sec\u001b[22m)\u001b[0m\u001b[1m0:00:6.4406\u001b[22m read: \u001b[0m\u001b[1m6.88 MRows\u001b[22m (\u001b[0m\u001b[1m1.07 MRows/sec\u001b[22m)\u001b[0m\u001b[1m0:00:6.7834\u001b[22m read: \u001b[0m\u001b[1m7.27 MRows\u001b[22m (\u001b[0m\u001b[1m1.07 MRows/sec\u001b[22m)\u001b[0m\u001b[1m0:00:7.1333\u001b[22m read: \u001b[0m\u001b[1m7.67 MRows\u001b[22m (\u001b[0m\u001b[1m1.07 MRows/sec\u001b[22m)\u001b[0m\u001b[1m0:00:7.5053\u001b[22m read: \u001b[0m\u001b[1m8.06 MRows\u001b[22m (\u001b[0m\u001b[1m1.07 MRows/sec\u001b[22m)\u001b[0m\u001b[1m0:00:7.8496\u001b[22m read: \u001b[0m\u001b[1m8.45 MRows\u001b[22m (\u001b[0m\u001b[1m1.08 MRows/sec\u001b[22m)\u001b[0m\u001b[1m0:00:8.1943\u001b[22m read: \u001b[0m\u001b[1m8.85 MRows\u001b[22m (\u001b[0m\u001b[1m1.08 MRows/sec\u001b[22m)\u001b[0m\u001b[1m0:00:8.5363\u001b[22m read: \u001b[0m\u001b[1m9.24 MRows\u001b[22m (\u001b[0m\u001b[1m1.08 MRows/sec\u001b[22m)\u001b[0m\u001b[1m0:00:8.8830\u001b[22m read: \u001b[0m\u001b[1m9.63 MRows\u001b[22m (\u001b[0m\u001b[1m1.08 MRows/sec\u001b[22m)\u001b[0m\u001b[1m0:00:9.3018\u001b[22m read: \u001b[0m\u001b[1m10.03 MRows\u001b[22m (\u001b[0m\u001b[1m1.08 MRows/sec\u001b[22m)\u001b[0m\u001b[1m0:00:9.6638\u001b[22m read: \u001b[0m\u001b[1m10.42 MRows\u001b[22m (\u001b[0m\u001b[1m1.08 MRows/sec\u001b[22m)\u001b[0m\u001b[1m0:00:10.0253\u001b[22m read: \u001b[0m\u001b[1m10.81 MRows\u001b[22m (\u001b[0m\u001b[1m1.08 MRows/sec\u001b[22m)\u001b[0m\u001b[1m0:00:10.3862\u001b[22m read: \u001b[0m\u001b[1m11.21 MRows\u001b[22m (\u001b[0m\u001b[1m1.08 MRows/sec\u001b[22m)\u001b[0m\u001b[1m0:00:10.7470\u001b[22m read: \u001b[0m\u001b[1m11.6 MRows\u001b[22m (\u001b[0m\u001b[1m1.08 MRows/sec\u001b[22m)\u001b[0m\u001b[1m0:00:11.1396\u001b[22m read: \u001b[0m\u001b[1m11.99 MRows\u001b[22m (\u001b[0m\u001b[1m1.08 MRows/sec\u001b[22m)\u001b[0m\u001b[1m0:00:11.5021\u001b[22m read: \u001b[0m\u001b[1m12.39 MRows\u001b[22m (\u001b[0m\u001b[1m1.08 MRows/sec\u001b[22m)\u001b[0m\u001b[1m0:00:11.8675\u001b[22m read: \u001b[0m\u001b[1m12.78 MRows\u001b[22m (\u001b[0m\u001b[1m1.08 MRows/sec\u001b[22m)\u001b[0m\u001b[1m0:00:12.2356\u001b[22m read: \u001b[0m\u001b[1m13.17 MRows\u001b[22m (\u001b[0m\u001b[1m1.08 MRows/sec\u001b[22m)\u001b[0m\u001b[1m0:00:12.6288\u001b[22m read: \u001b[0m\u001b[1m13.57 MRows\u001b[22m (\u001b[0m\u001b[1m1.07 MRows/sec\u001b[22m)\u001b[0m\u001b[1m0:00:12.9890\u001b[22m read: \u001b[0m\u001b[1m13.96 MRows\u001b[22m (\u001b[0m\u001b[1m1.07 MRows/sec\u001b[22m)\u001b[0m\u001b[1m0:00:13.3497\u001b[22m read: \u001b[0m\u001b[1m14.35 MRows\u001b[22m (\u001b[0m\u001b[1m1.08 MRows/sec\u001b[22m)\u001b[0m\u001b[1m0:00:13.7089\u001b[22m read: \u001b[0m\u001b[1m14.75 MRows\u001b[22m (\u001b[0m\u001b[1m1.08 MRows/sec\u001b[22m)\u001b[0m\u001b[1m0:00:14.0700\u001b[22m read: \u001b[0m\u001b[1m15.14 MRows\u001b[22m (\u001b[0m\u001b[1m1.08 MRows/sec\u001b[22m)\u001b[0m\u001b[1m0:00:14.4570\u001b[22m read: \u001b[0m\u001b[1m15.53 MRows\u001b[22m (\u001b[0m\u001b[1m1.07 MRows/sec\u001b[22m)\u001b[0m\u001b[1m0:00:14.8146\u001b[22m read: \u001b[0m\u001b[1m15.93 MRows\u001b[22m (\u001b[0m\u001b[1m1.07 MRows/sec\u001b[22m)\u001b[0m\u001b[1m0:00:15.1783\u001b[22m read: \u001b[0m\u001b[1m16.32 MRows\u001b[22m (\u001b[0m\u001b[1m1.08 MRows/sec\u001b[22m)\u001b[0m\u001b[1m0:00:15.5654\u001b[22m read: \u001b[0m\u001b[1m16.71 MRows\u001b[22m (\u001b[0m\u001b[1m1.07 MRows/sec\u001b[22m)\u001b[0m\u001b[1m0:00:15.9432\u001b[22m read: \u001b[0m\u001b[1m17.1 MRows\u001b[22m (\u001b[0m\u001b[1m1.07 MRows/sec\u001b[22m)\u001b[0m\u001b[1m0:00:16.3549\u001b[22m read: \u001b[0m\u001b[1m17.5 MRows\u001b[22m (\u001b[0m\u001b[1m1.07 MRows/sec\u001b[22m)\u001b[0m\u001b[1m0:00:16.7274\u001b[22m read: \u001b[0m\u001b[1m17.89 MRows\u001b[22m (\u001b[0m\u001b[1m1.07 MRows/sec\u001b[22m)\u001b[0m\u001b[1m0:00:17.1098\u001b[22m read: \u001b[0m\u001b[1m18.28 MRows\u001b[22m (\u001b[0m\u001b[1m1.07 MRows/sec\u001b[22m)\u001b[0m\u001b[1m0:00:17.5020\u001b[22m read: \u001b[0m\u001b[1m18.68 MRows\u001b[22m (\u001b[0m\u001b[1m1.07 MRows/sec\u001b[22m)\u001b[0m\u001b[1m0:00:17.8618\u001b[22m read: \u001b[0m\u001b[1m19.07 MRows\u001b[22m (\u001b[0m\u001b[1m1.07 MRows/sec\u001b[22m)\u001b[0m\u001b[1m0:00:18.2610\u001b[22m read: \u001b[0m\u001b[1m19.46 MRows\u001b[22m (\u001b[0m\u001b[1m1.07 MRows/sec\u001b[22m)\u001b[0m\u001b[1m0:00:18.6380\u001b[22m read: \u001b[0m\u001b[1m19.86 MRows\u001b[22m (\u001b[0m\u001b[1m1.07 MRows/sec\u001b[22m)\u001b[0m\u001b[1m0:00:19.0402\u001b[22m read: \u001b[0m\u001b[1m20.25 MRows\u001b[22m (\u001b[0m\u001b[1m1.06 MRows/sec\u001b[22m)\u001b[0m\u001b[1m0:00:19.4424\u001b[22m read: \u001b[0m\u001b[1m20.64 MRows\u001b[22m (\u001b[0m\u001b[1m1.06 MRows/sec\u001b[22m)\u001b[0m\u001b[1m0:00:19.8228\u001b[22m read: \u001b[0m\u001b[1m21.04 MRows\u001b[22m (\u001b[0m\u001b[1m1.06 MRows/sec\u001b[22m)\u001b[0m\u001b[1m0:00:20.2032\u001b[22m read: \u001b[0m\u001b[1m21.36 MRows\u001b[22m (\u001b[0m\u001b[1m1.06 MRows/sec\u001b[22m)\u001b[0m\u001b[1m0:00:20.5916\u001b[22m read: \u001b[0m\u001b[1m21.76 MRows\u001b[22m (\u001b[0m\u001b[1m1.06 MRows/sec\u001b[22m)\u001b[0m\u001b[1m0:00:20.9927\u001b[22m read: \u001b[0m\u001b[1m22.15 MRows\u001b[22m (\u001b[0m\u001b[1m1.06 MRows/sec\u001b[22m)\u001b[0m\u001b[1m0:00:21.3619\u001b[22m read: \u001b[0m\u001b[1m22.54 MRows\u001b[22m (\u001b[0m\u001b[1m1.06 MRows/sec\u001b[22m)\u001b[0m\u001b[1m0:00:21.7239\u001b[22m read: \u001b[0m\u001b[1m22.94 MRows\u001b[22m (\u001b[0m\u001b[1m1.06 MRows/sec\u001b[22m)\u001b[0m\u001b[1m0:00:22.1365\u001b[22m read: \u001b[0m\u001b[1m23.33 MRows\u001b[22m (\u001b[0m\u001b[1m1.05 MRows/sec\u001b[22m)\u001b[0m\u001b[1m0:00:22.4973\u001b[22m read: \u001b[0m\u001b[1m23.72 MRows\u001b[22m (\u001b[0m\u001b[1m1.05 MRows/sec\u001b[22m)\u001b[0m\u001b[1m0:00:22.8585\u001b[22m read: \u001b[0m\u001b[1m24.12 MRows\u001b[22m (\u001b[0m\u001b[1m1.06 MRows/sec\u001b[22m)\u001b[0m\u001b[1m0:00:23.2194\u001b[22m read: \u001b[0m\u001b[1m24.51 MRows\u001b[22m (\u001b[0m\u001b[1m1.06 MRows/sec\u001b[22m)\u001b[0m\u001b[1m0:00:23.6083\u001b[22m read: \u001b[0m\u001b[1m24.9 MRows\u001b[22m (\u001b[0m\u001b[1m1.05 MRows/sec\u001b[22m)\u001b[0m\u001b[1m0:00:23.9696\u001b[22m read: \u001b[0m\u001b[1m25.3 MRows\u001b[22m (\u001b[0m\u001b[1m1.06 MRows/sec\u001b[22m)\u001b[0m\u001b[1m0:00:24.3264\u001b[22m read: \u001b[0m\u001b[1m25.69 MRows\u001b[22m (\u001b[0m\u001b[1m1.06 MRows/sec\u001b[22m)\u001b[0m\u001b[1m0:00:24.6842\u001b[22m read: \u001b[0m\u001b[1m26.08 MRows\u001b[22m (\u001b[0m\u001b[1m1.06 MRows/sec\u001b[22m)\u001b[0m\u001b[1m0:00:25.0484\u001b[22m read: \u001b[0m\u001b[1m26.48 MRows\u001b[22m (\u001b[0m\u001b[1m1.06 MRows/sec\u001b[22m)\u001b[0m\u001b[1m0:00:25.4596\u001b[22m read: \u001b[0m\u001b[1m26.87 MRows\u001b[22m (\u001b[0m\u001b[1m1.06 MRows/sec\u001b[22m)\u001b[0m\u001b[1m0:00:25.8200\u001b[22m read: \u001b[0m\u001b[1m27.26 MRows\u001b[22m (\u001b[0m\u001b[1m1.06 MRows/sec\u001b[22m)\u001b[0m\u001b[1m0:00:26.1798\u001b[22m read: \u001b[0m\u001b[1m27.66 MRows\u001b[22m (\u001b[0m\u001b[1m1.06 MRows/sec\u001b[22m)\u001b[0m\u001b[1m0:00:26.5387\u001b[22m read: \u001b[0m\u001b[1m28.05 MRows\u001b[22m (\u001b[0m\u001b[1m1.06 MRows/sec\u001b[22m)\u001b[0m\u001b[1m0:00:26.9150\u001b[22m read: \u001b[0m\u001b[1m28.44 MRows\u001b[22m (\u001b[0m\u001b[1m1.06 MRows/sec\u001b[22m)\u001b[0m\u001b[1m0:00:27.3209\u001b[22m read: \u001b[0m\u001b[1m28.84 MRows\u001b[22m (\u001b[0m\u001b[1m1.06 MRows/sec\u001b[22m)\u001b[0m\u001b[1m0:00:27.6799\u001b[22m read: \u001b[0m\u001b[1m29.23 MRows\u001b[22m (\u001b[0m\u001b[1m1.06 MRows/sec\u001b[22m)\u001b[0m\u001b[1m0:00:28.0472\u001b[22m read: \u001b[0m\u001b[1m29.62 MRows\u001b[22m (\u001b[0m\u001b[1m1.06 MRows/sec\u001b[22m)\u001b[0m\u001b[1m0:00:28.4110\u001b[22m read: \u001b[0m\u001b[1m30.02 MRows\u001b[22m (\u001b[0m\u001b[1m1.06 MRows/sec\u001b[22m)\u001b[0m\u001b[1m0:00:28.7722\u001b[22m read: \u001b[0m\u001b[1m30.41 MRows\u001b[22m (\u001b[0m\u001b[1m1.06 MRows/sec\u001b[22m)\u001b[0m\u001b[1m0:00:29.1662\u001b[22m read: \u001b[0m\u001b[1m30.8 MRows\u001b[22m (\u001b[0m\u001b[1m1.06 MRows/sec\u001b[22m)\u001b[0m\u001b[1m0:00:29.5209\u001b[22m read: \u001b[0m\u001b[1m31.2 MRows\u001b[22m (\u001b[0m\u001b[1m1.06 MRows/sec\u001b[22m)\u001b[0m\u001b[1m0:00:29.8800\u001b[22m read: \u001b[0m\u001b[1m31.59 MRows\u001b[22m (\u001b[0m\u001b[1m1.06 MRows/sec\u001b[22m)\u001b[0m\u001b[1m0:00:30.2399\u001b[22m read: \u001b[0m\u001b[1m31.98 MRows\u001b[22m (\u001b[0m\u001b[1m1.06 MRows/sec\u001b[22m)\u001b[0m\u001b[1m0:00:30.6142\u001b[22m read: \u001b[0m\u001b[1m32.37 MRows\u001b[22m (\u001b[0m\u001b[1m1.06 MRows/sec\u001b[22m)\u001b[0m\u001b[1m0:00:31.0144\u001b[22m read: \u001b[0m\u001b[1m32.77 MRows\u001b[22m (\u001b[0m\u001b[1m1.06 MRows/sec\u001b[22m)\u001b[0m\u001b[1m0:00:31.3733\u001b[22m read: \u001b[0m\u001b[1m33.16 MRows\u001b[22m (\u001b[0m\u001b[1m1.06 MRows/sec\u001b[22m)\u001b[0m\u001b[1m0:00:31.7358\u001b[22m read: \u001b[0m\u001b[1m33.55 MRows\u001b[22m (\u001b[0m\u001b[1m1.06 MRows/sec\u001b[22m)\u001b[0m\u001b[1m0:00:32.1115\u001b[22m read: \u001b[0m\u001b[1m33.95 MRows\u001b[22m (\u001b[0m\u001b[1m1.06 MRows/sec\u001b[22m)\u001b[0m\u001b[1m0:00:32.4697\u001b[22m read: \u001b[0m\u001b[1m34.34 MRows\u001b[22m (\u001b[0m\u001b[1m1.06 MRows/sec\u001b[22m)\u001b[0m\u001b[1m0:00:32.8556\u001b[22m read: \u001b[0m\u001b[1m34.73 MRows\u001b[22m (\u001b[0m\u001b[1m1.06 MRows/sec\u001b[22m)\u001b[0m\u001b[1m0:00:33.2003\u001b[22m read: \u001b[0m\u001b[1m35.13 MRows\u001b[22m (\u001b[0m\u001b[1m1.06 MRows/sec\u001b[22m)\u001b[0m\u001b[1m0:00:33.5618\u001b[22m read: \u001b[0m\u001b[1m35.52 MRows\u001b[22m (\u001b[0m\u001b[1m1.06 MRows/sec\u001b[22m)\u001b[0m\u001b[1m0:00:33.8991\u001b[22m read: \u001b[0m\u001b[1m35.91 MRows\u001b[22m (\u001b[0m\u001b[1m1.06 MRows/sec\u001b[22m)\u001b[0m\u001b[1m0:00:34.2707\u001b[22m read: \u001b[0m\u001b[1m36.31 MRows\u001b[22m (\u001b[0m\u001b[1m1.06 MRows/sec\u001b[22m)\u001b[0m\u001b[1m0:00:34.6300\u001b[22m read: \u001b[0m\u001b[1m36.7 MRows\u001b[22m (\u001b[0m\u001b[1m1.06 MRows/sec\u001b[22m)\u001b[0m\u001b[1m0:00:35.0009\u001b[22m read: \u001b[0m\u001b[1m37.09 MRows\u001b[22m (\u001b[0m\u001b[1m1.06 MRows/sec\u001b[22m)\u001b[0m\u001b[1m0:00:35.3391\u001b[22m read: \u001b[0m\u001b[1m37.49 MRows\u001b[22m (\u001b[0m\u001b[1m1.06 MRows/sec\u001b[22m)\u001b[0m\u001b[1m0:00:35.7142\u001b[22m read: \u001b[0m\u001b[1m37.88 MRows\u001b[22m (\u001b[0m\u001b[1m1.06 MRows/sec\u001b[22m)\u001b[0m\u001b[1m0:00:36.0895\u001b[22m read: \u001b[0m\u001b[1m38.27 MRows\u001b[22m (\u001b[0m\u001b[1m1.06 MRows/sec\u001b[22m)\u001b[0m\u001b[1m0:00:36.4273\u001b[22m read: \u001b[0m\u001b[1m38.67 MRows\u001b[22m (\u001b[0m\u001b[1m1.06 MRows/sec\u001b[22m)\u001b[0m\u001b[1m0:00:36.7686\u001b[22m read: \u001b[0m\u001b[1m39.06 MRows\u001b[22m (\u001b[0m\u001b[1m1.06 MRows/sec\u001b[22m)\u001b[0m\u001b[1m0:00:37.1132\u001b[22m read: \u001b[0m\u001b[1m39.45 MRows\u001b[22m (\u001b[0m\u001b[1m1.06 MRows/sec\u001b[22m)\u001b[0m\u001b[1m0:00:37.4564\u001b[22m read: \u001b[0m\u001b[1m39.85 MRows\u001b[22m (\u001b[0m\u001b[1m1.06 MRows/sec\u001b[22m)\u001b[0m\u001b[1m0:00:37.8209\u001b[22m read: \u001b[0m\u001b[1m40.24 MRows\u001b[22m (\u001b[0m\u001b[1m1.06 MRows/sec\u001b[22m)\u001b[0m\u001b[1m0:00:38.1680\u001b[22m read: \u001b[0m\u001b[1m40.63 MRows\u001b[22m (\u001b[0m\u001b[1m1.06 MRows/sec\u001b[22m)\u001b[0m\u001b[1m0:00:38.5072\u001b[22m read: \u001b[0m\u001b[1m41.03 MRows\u001b[22m (\u001b[0m\u001b[1m1.07 MRows/sec\u001b[22m)\u001b[0m\u001b[1m0:00:38.8462\u001b[22m read: \u001b[0m\u001b[1m41.42 MRows\u001b[22m (\u001b[0m\u001b[1m1.07 MRows/sec\u001b[22m)\u001b[0m\u001b[1m0:00:39.1855\u001b[22m read: \u001b[0m\u001b[1m41.81 MRows\u001b[22m (\u001b[0m\u001b[1m1.07 MRows/sec\u001b[22m)\u001b[0m\u001b[1m0:00:39.5501\u001b[22m read: \u001b[0m\u001b[1m42.21 MRows\u001b[22m (\u001b[0m\u001b[1m1.07 MRows/sec\u001b[22m)\u001b[0m\u001b[1m0:00:39.8904\u001b[22m read: \u001b[0m\u001b[1m42.6 MRows\u001b[22m (\u001b[0m\u001b[1m1.07 MRows/sec\u001b[22m)\u001b[0m\u001b[1m0:00:40.2297\u001b[22m read: \u001b[0m\u001b[1m42.99 MRows\u001b[22m (\u001b[0m\u001b[1m1.07 MRows/sec\u001b[22m)\u001b[0m\u001b[1m0:00:40.5698\u001b[22m read: \u001b[0m\u001b[1m43.38 MRows\u001b[22m (\u001b[0m\u001b[1m1.07 MRows/sec\u001b[22m)\u001b[0m\u001b[1m0:00:40.9104\u001b[22m read: \u001b[0m\u001b[1m43.78 MRows\u001b[22m (\u001b[0m\u001b[1m1.07 MRows/sec\u001b[22m)\u001b[0m\u001b[1m0:00:41.2888\u001b[22m read: \u001b[0m\u001b[1m44.17 MRows\u001b[22m (\u001b[0m\u001b[1m1.07 MRows/sec\u001b[22m)\u001b[0m\u001b[1m0:00:41.6495\u001b[22m read: \u001b[0m\u001b[1m44.56 MRows\u001b[22m (\u001b[0m\u001b[1m1.07 MRows/sec\u001b[22m)\u001b[0m\u001b[1m0:00:41.9911\u001b[22m read: \u001b[0m\u001b[1m44.96 MRows\u001b[22m (\u001b[0m\u001b[1m1.07 MRows/sec\u001b[22m)\u001b[0m\u001b[1m0:00:42.3299\u001b[22m read: \u001b[0m\u001b[1m45.35 MRows\u001b[22m (\u001b[0m\u001b[1m1.07 MRows/sec\u001b[22m)\u001b[0m\u001b[1m0:00:42.6998\u001b[22m read: \u001b[0m\u001b[1m45.74 MRows\u001b[22m (\u001b[0m\u001b[1m1.07 MRows/sec\u001b[22m)\u001b[0m\u001b[1m0:00:43.0389\u001b[22m read: \u001b[0m\u001b[1m46.14 MRows\u001b[22m (\u001b[0m\u001b[1m1.07 MRows/sec\u001b[22m)\u001b[0m\u001b[1m0:00:43.3759\u001b[22m read: \u001b[0m\u001b[1m46.53 MRows\u001b[22m (\u001b[0m\u001b[1m1.07 MRows/sec\u001b[22m)\u001b[0m\u001b[1m0:00:43.7124\u001b[22m read: \u001b[0m\u001b[1m46.92 MRows\u001b[22m (\u001b[0m\u001b[1m1.07 MRows/sec\u001b[22m)\u001b[0m\u001b[1m0:00:44.0555\u001b[22m read: \u001b[0m\u001b[1m47.32 MRows\u001b[22m (\u001b[0m\u001b[1m1.07 MRows/sec\u001b[22m)\u001b[0m\u001b[1m0:00:44.4218\u001b[22m read: \u001b[0m\u001b[1m47.71 MRows\u001b[22m (\u001b[0m\u001b[1m1.07 MRows/sec\u001b[22m)\u001b[0m\u001b[1m0:00:44.7583\u001b[22m read: \u001b[0m\u001b[1m48.1 MRows\u001b[22m (\u001b[0m\u001b[1m1.07 MRows/sec\u001b[22m)\u001b[0m\u001b[1m0:00:45.0964\u001b[22m read: \u001b[0m\u001b[1m48.5 MRows\u001b[22m (\u001b[0m\u001b[1m1.08 MRows/sec\u001b[22m)\u001b[0m\u001b[1m0:00:45.4404\u001b[22m read: \u001b[0m\u001b[1m48.89 MRows\u001b[22m (\u001b[0m\u001b[1m1.08 MRows/sec\u001b[22m)\u001b[0m\u001b[1m0:00:45.7798\u001b[22m read: \u001b[0m\u001b[1m49.28 MRows\u001b[22m (\u001b[0m\u001b[1m1.08 MRows/sec\u001b[22m)\u001b[0m\u001b[1m0:00:46.1490\u001b[22m read: \u001b[0m\u001b[1m49.68 MRows\u001b[22m (\u001b[0m\u001b[1m1.08 MRows/sec\u001b[22m)\u001b[0m\u001b[1m0:00:46.4910\u001b[22m read: \u001b[0m\u001b[1m50.07 MRows\u001b[22m (\u001b[0m\u001b[1m1.08 MRows/sec\u001b[22m)\u001b[0m\u001b[1m0:00:46.8685\u001b[22m read: \u001b[0m\u001b[1m50.46 MRows\u001b[22m (\u001b[0m\u001b[1m1.08 MRows/sec\u001b[22m)\u001b[0m\u001b[1m0:00:47.2078\u001b[22m read: \u001b[0m\u001b[1m50.86 MRows\u001b[22m (\u001b[0m\u001b[1m1.08 MRows/sec\u001b[22m)\u001b[0m\u001b[1m0:00:47.5525\u001b[22m read: \u001b[0m\u001b[1m51.25 MRows\u001b[22m (\u001b[0m\u001b[1m1.08 MRows/sec\u001b[22m)\u001b[0m\u001b[1m0:00:47.9274\u001b[22m read: \u001b[0m\u001b[1m51.64 MRows\u001b[22m (\u001b[0m\u001b[1m1.08 MRows/sec\u001b[22m)\u001b[0m\u001b[1m0:00:48.2680\u001b[22m read: \u001b[0m\u001b[1m52.04 MRows\u001b[22m (\u001b[0m\u001b[1m1.08 MRows/sec\u001b[22m)\u001b[0m\u001b[1m0:00:48.6204\u001b[22m read: \u001b[0m\u001b[1m52.43 MRows\u001b[22m (\u001b[0m\u001b[1m1.08 MRows/sec\u001b[22m)\u001b[0m\u001b[1m0:00:48.9608\u001b[22m read: \u001b[0m\u001b[1m52.82 MRows\u001b[22m (\u001b[0m\u001b[1m1.08 MRows/sec\u001b[22m)\u001b[0m\u001b[1m0:00:49.3032\u001b[22m read: \u001b[0m\u001b[1m53.22 MRows\u001b[22m (\u001b[0m\u001b[1m1.08 MRows/sec\u001b[22m)\u001b[0m\u001b[1m0:00:49.6613\u001b[22m read: \u001b[0m\u001b[1m53.54 MRows\u001b[22m (\u001b[0m\u001b[1m1.08 MRows/sec\u001b[22m)\u001b[0m\u001b[1m0:00:49.9987\u001b[22m read: \u001b[0m\u001b[1m53.94 MRows\u001b[22m (\u001b[0m\u001b[1m1.08 MRows/sec\u001b[22m)\u001b[0m\u001b[1m0:00:50.3577\u001b[22m read: \u001b[0m\u001b[1m54.33 MRows\u001b[22m (\u001b[0m\u001b[1m1.08 MRows/sec\u001b[22m)\u001b[0m\u001b[1m0:00:50.7097\u001b[22m read: \u001b[0m\u001b[1m54.72 MRows\u001b[22m (\u001b[0m\u001b[1m1.08 MRows/sec\u001b[22m)\u001b[0m\u001b[1m0:00:51.0527\u001b[22m read: \u001b[0m\u001b[1m55.12 MRows\u001b[22m (\u001b[0m\u001b[1m1.08 MRows/sec\u001b[22m)\u001b[0m\u001b[1m0:00:51.4218\u001b[22m read: \u001b[0m\u001b[1m55.51 MRows\u001b[22m (\u001b[0m\u001b[1m1.08 MRows/sec\u001b[22m)\u001b[0m\u001b[1m0:00:51.7609\u001b[22m read: \u001b[0m\u001b[1m55.9 MRows\u001b[22m (\u001b[0m\u001b[1m1.08 MRows/sec\u001b[22m)\u001b[0m\u001b[1m0:00:52.1064\u001b[22m read: \u001b[0m\u001b[1m56.3 MRows\u001b[22m (\u001b[0m\u001b[1m1.08 MRows/sec\u001b[22m)\u001b[0m\u001b[1m0:00:52.4708\u001b[22m read: \u001b[0m\u001b[1m56.69 MRows\u001b[22m (\u001b[0m\u001b[1m1.08 MRows/sec\u001b[22m)\u001b[0m\u001b[1m0:00:52.8545\u001b[22m read: \u001b[0m\u001b[1m57.08 MRows\u001b[22m (\u001b[0m\u001b[1m1.08 MRows/sec\u001b[22m)\u001b[0m\u001b[1m0:00:53.2137\u001b[22m read: \u001b[0m\u001b[1m57.48 MRows\u001b[22m (\u001b[0m\u001b[1m1.08 MRows/sec\u001b[22m)\u001b[0m\u001b[1m0:00:53.5733\u001b[22m read: \u001b[0m\u001b[1m57.87 MRows\u001b[22m (\u001b[0m\u001b[1m1.08 MRows/sec\u001b[22m)\u001b[0m\u001b[1m0:00:53.9337\u001b[22m read: \u001b[0m\u001b[1m58.26 MRows\u001b[22m (\u001b[0m\u001b[1m1.08 MRows/sec\u001b[22m)\u001b[0m\u001b[1m0:00:54.2907\u001b[22m read: \u001b[0m\u001b[1m58.65 MRows\u001b[22m (\u001b[0m\u001b[1m1.08 MRows/sec\u001b[22m)\u001b[0m\u001b[1m0:00:54.6776\u001b[22m read: \u001b[0m\u001b[1m59.05 MRows\u001b[22m (\u001b[0m\u001b[1m1.08 MRows/sec\u001b[22m)\u001b[0m\u001b[1m0:00:55.0328\u001b[22m read: \u001b[0m\u001b[1m59.44 MRows\u001b[22m (\u001b[0m\u001b[1m1.08 MRows/sec\u001b[22m)\u001b[0m\u001b[1m0:00:55.4003\u001b[22m read: \u001b[0m\u001b[1m59.83 MRows\u001b[22m (\u001b[0m\u001b[1m1.08 MRows/sec\u001b[22m)\u001b[0m\u001b[1m0:00:55.7576\u001b[22m read: \u001b[0m\u001b[1m60.23 MRows\u001b[22m (\u001b[0m\u001b[1m1.08 MRows/sec\u001b[22m)\u001b[0m\u001b[1m0:00:56.1190\u001b[22m read: \u001b[0m\u001b[1m60.62 MRows\u001b[22m (\u001b[0m\u001b[1m1.08 MRows/sec\u001b[22m)\u001b[0m\u001b[1m0:00:56.5097\u001b[22m read: \u001b[0m\u001b[1m61.01 MRows\u001b[22m (\u001b[0m\u001b[1m1.08 MRows/sec\u001b[22m)\u001b[0m\u001b[1m0:00:56.8666\u001b[22m read: \u001b[0m\u001b[1m61.41 MRows\u001b[22m (\u001b[0m\u001b[1m1.08 MRows/sec\u001b[22m)\u001b[0m\u001b[1m0:00:57.2277\u001b[22m read: \u001b[0m\u001b[1m61.8 MRows\u001b[22m (\u001b[0m\u001b[1m1.08 MRows/sec\u001b[22m)\u001b[0m\u001b[1m0:00:57.6084\u001b[22m read: \u001b[0m\u001b[1m62.19 MRows\u001b[22m (\u001b[0m\u001b[1m1.08 MRows/sec\u001b[22m)\u001b[0m\u001b[1m0:00:57.9704\u001b[22m read: \u001b[0m\u001b[1m62.59 MRows\u001b[22m (\u001b[0m\u001b[1m1.08 MRows/sec\u001b[22m)\u001b[0m\u001b[1m0:00:58.3630\u001b[22m read: \u001b[0m\u001b[1m62.98 MRows\u001b[22m (\u001b[0m\u001b[1m1.08 MRows/sec\u001b[22m)\u001b[0m\u001b[1m0:00:58.7147\u001b[22m read: \u001b[0m\u001b[1m63.37 MRows\u001b[22m (\u001b[0m\u001b[1m1.08 MRows/sec\u001b[22m)\u001b[0m\u001b[1m0:00:59.0877\u001b[22m read: \u001b[0m\u001b[1m63.77 MRows\u001b[22m (\u001b[0m\u001b[1m1.08 MRows/sec\u001b[22m)\u001b[0m\u001b[1m0:00:59.4729\u001b[22m read: \u001b[0m\u001b[1m64.16 MRows\u001b[22m (\u001b[0m\u001b[1m1.08 MRows/sec\u001b[22m)\u001b[0m\u001b[1m0:00:59.8535\u001b[22m read: \u001b[0m\u001b[1m64.55 MRows\u001b[22m (\u001b[0m\u001b[1m1.08 MRows/sec\u001b[22m)\u001b[0m\u001b[1m0:01:0.2641\u001b[22m read: \u001b[0m\u001b[1m64.95 MRows\u001b[22m (\u001b[0m\u001b[1m1.08 MRows/sec\u001b[22m)\u001b[0m\u001b[1m0:01:0.6709\u001b[22m read: \u001b[0m\u001b[1m65.34 MRows\u001b[22m (\u001b[0m\u001b[1m1.08 MRows/sec\u001b[22m)\u001b[0m\u001b[1m0:01:1.0549\u001b[22m read: \u001b[0m\u001b[1m65.73 MRows\u001b[22m (\u001b[0m\u001b[1m1.08 MRows/sec\u001b[22m)\u001b[0m\u001b[1m0:01:1.4527\u001b[22m read: \u001b[0m\u001b[1m66.13 MRows\u001b[22m (\u001b[0m\u001b[1m1.08 MRows/sec\u001b[22m)\u001b[0m\u001b[1m0:01:2.1011\u001b[22m read: \u001b[0m\u001b[1m66.72 MRows\u001b[22m (\u001b[0m\u001b[1m1.07 MRows/sec\u001b[22m)\u001b[0m\u001b[1m0:01:2.4838\u001b[22m read: \u001b[0m\u001b[1m67.11 MRows\u001b[22m (\u001b[0m\u001b[1m1.07 MRows/sec\u001b[22m)\u001b[0m\u001b[1m0:01:2.8675\u001b[22m read: \u001b[0m\u001b[1m67.5 MRows\u001b[22m (\u001b[0m\u001b[1m1.07 MRows/sec\u001b[22m)\n"
     ]
    }
   ],
   "source": [
    "add_column!(table, :event_time, tmp, before = :event_type)"
   ]
  },
  {
   "cell_type": "code",
   "execution_count": 158,
   "metadata": {},
   "outputs": [],
   "source": [
    "drop_column!(table, :event_time_raw);"
   ]
  },
  {
   "cell_type": "markdown",
   "metadata": {},
   "source": [
    "## Заменим missing на пустые строки в оставшихся колонках"
   ]
  },
  {
   "cell_type": "code",
   "execution_count": 159,
   "metadata": {},
   "outputs": [],
   "source": [
    "string_convert(x) = ismissing(x) ? \"\" : String(x);"
   ]
  },
  {
   "cell_type": "code",
   "execution_count": 160,
   "metadata": {},
   "outputs": [],
   "source": [
    "rename_column!(table, :event_type, :event_type_raw)\n",
    "rename_column!(table, :category_code, :category_code_raw)\n",
    "rename_column!(table, :brand, :brand_raw)"
   ]
  },
  {
   "cell_type": "code",
   "execution_count": 161,
   "metadata": {},
   "outputs": [
    {
     "name": "stderr",
     "output_type": "stream",
     "text": [
      "Time: \u001b[0m\u001b[1m0:00:0.2280\u001b[22m read: \u001b[0m\u001b[1m67.5 MRows\u001b[22m (\u001b[0m\u001b[1m296.1 MRows/sec\u001b[22m)m)\n",
      "Time: \u001b[0m\u001b[1m0:00:0.0822\u001b[22m read: \u001b[0m\u001b[1m67.5 MRows\u001b[22m (\u001b[0m\u001b[1m821.11 MRows/sec\u001b[22m)\n",
      "Time: \u001b[0m\u001b[1m0:00:0.2878\u001b[22m read: \u001b[0m\u001b[1m67.5 MRows\u001b[22m (\u001b[0m\u001b[1m234.53 MRows/sec\u001b[22m))\n",
      "Time: \u001b[0m\u001b[1m0:00:10.9134\u001b[22m read: \u001b[0m\u001b[1m67.5 MRows\u001b[22m (\u001b[0m\u001b[1m6.19 MRows/sec\u001b[22m))\u001b[0m\u001b[1m0:00:5.2129\u001b[22m read: \u001b[0m\u001b[1m37.16 MRows\u001b[22m (\u001b[0m\u001b[1m7.13 MRows/sec\u001b[22m)\u001b[0m\u001b[1m0:00:5.9312\u001b[22m read: \u001b[0m\u001b[1m41.62 MRows\u001b[22m (\u001b[0m\u001b[1m7.02 MRows/sec\u001b[22m)\u001b[0m\u001b[1m0:00:6.8049\u001b[22m read: \u001b[0m\u001b[1m46.47 MRows\u001b[22m (\u001b[0m\u001b[1m6.83 MRows/sec\u001b[22m)\u001b[0m\u001b[1m51.05 MRows\u001b[22m (\u001b[0m\u001b[1m6.58 MRows/sec\u001b[22m)\u001b[0m\u001b[1m0:00:8.5042\u001b[22m read: \u001b[0m\u001b[1m54.98 MRows\u001b[22m (\u001b[0m\u001b[1m6.47 MRows/sec\u001b[22m)\u001b[0m\u001b[1m0:00:10.0987\u001b[22m read: \u001b[0m\u001b[1m63.44 MRows\u001b[22m (\u001b[0m\u001b[1m6.28 MRows/sec\u001b[22m)\n"
     ]
    }
   ],
   "source": [
    "add_column!(table, :event_type, string_convert.(table.event_type_raw), before=:product_id)"
   ]
  },
  {
   "cell_type": "code",
   "execution_count": 162,
   "metadata": {},
   "outputs": [
    {
     "name": "stderr",
     "output_type": "stream",
     "text": [
      "Time: \u001b[0m\u001b[1m0:00:0.2659\u001b[22m read: \u001b[0m\u001b[1m67.5 MRows\u001b[22m (\u001b[0m\u001b[1m253.86 MRows/sec\u001b[22m))\n",
      "Time: \u001b[0m\u001b[1m0:00:0.1382\u001b[22m read: \u001b[0m\u001b[1m67.5 MRows\u001b[22m (\u001b[0m\u001b[1m488.45 MRows/sec\u001b[22m))\n",
      "Time: \u001b[0m\u001b[1m0:00:0.5870\u001b[22m read: \u001b[0m\u001b[1m67.5 MRows\u001b[22m (\u001b[0m\u001b[1m115.0 MRows/sec\u001b[22m)m)\n",
      "Time: \u001b[0m\u001b[1m0:00:21.7869\u001b[22m read: \u001b[0m\u001b[1m67.5 MRows\u001b[22m (\u001b[0m\u001b[1m3.1 MRows/sec\u001b[22m)))\u001b[0m\u001b[1m0:00:0.4119\u001b[22m read: \u001b[0m\u001b[1m1.11 MRows\u001b[22m (\u001b[0m\u001b[1m2.71 MRows/sec\u001b[22m)\u001b[0m\u001b[1m0:00:0.8079\u001b[22m read: \u001b[0m\u001b[1m2.42 MRows\u001b[22m (\u001b[0m\u001b[1m3.0 MRows/sec\u001b[22m)\u001b[0m\u001b[1m0:00:3.1442\u001b[22m read: \u001b[0m\u001b[1m6.75 MRows\u001b[22m (\u001b[0m\u001b[1m2.15 MRows/sec\u001b[22m)\u001b[0m\u001b[1m0:00:3.9215\u001b[22m read: \u001b[0m\u001b[1m9.57 MRows\u001b[22m (\u001b[0m\u001b[1m2.44 MRows/sec\u001b[22m)\u001b[0m\u001b[1m0:00:4.5616\u001b[22m read: \u001b[0m\u001b[1m11.93 MRows\u001b[22m (\u001b[0m\u001b[1m2.61 MRows/sec\u001b[22m)\u001b[0m\u001b[1m0:00:5.3696\u001b[22m read: \u001b[0m\u001b[1m14.68 MRows\u001b[22m (\u001b[0m\u001b[1m2.73 MRows/sec\u001b[22m)\u001b[0m\u001b[1m0:00:6.0132\u001b[22m read: \u001b[0m\u001b[1m17.04 MRows\u001b[22m (\u001b[0m\u001b[1m2.83 MRows/sec\u001b[22m)\u001b[0m\u001b[1m0:00:7.6802\u001b[22m read: \u001b[0m\u001b[1m22.35 MRows\u001b[22m (\u001b[0m\u001b[1m2.91 MRows/sec\u001b[22m)\u001b[0m\u001b[1m0:00:8.3291\u001b[22m read: \u001b[0m\u001b[1m24.44 MRows\u001b[22m (\u001b[0m\u001b[1m2.93 MRows/sec\u001b[22m)\u001b[0m\u001b[1m0:00:9.7170\u001b[22m read: \u001b[0m\u001b[1m29.1 MRows\u001b[22m (\u001b[0m\u001b[1m2.99 MRows/sec\u001b[22m)\u001b[0m\u001b[1m0:00:10.8108\u001b[22m read: \u001b[0m\u001b[1m32.18 MRows\u001b[22m (\u001b[0m\u001b[1m2.98 MRows/sec\u001b[22m)\u001b[0m\u001b[1m0:00:11.5670\u001b[22m read: \u001b[0m\u001b[1m34.8 MRows\u001b[22m (\u001b[0m\u001b[1m3.01 MRows/sec\u001b[22m)\u001b[0m\u001b[1m0:00:12.6049\u001b[22m read: \u001b[0m\u001b[1m38.08 MRows\u001b[22m (\u001b[0m\u001b[1m3.02 MRows/sec\u001b[22m)\u001b[0m\u001b[1m0:00:13.2394\u001b[22m read: \u001b[0m\u001b[1m40.24 MRows\u001b[22m (\u001b[0m\u001b[1m3.04 MRows/sec\u001b[22m)\u001b[0m\u001b[1m0:00:13.8893\u001b[22m read: \u001b[0m\u001b[1m42.34 MRows\u001b[22m (\u001b[0m\u001b[1m3.05 MRows/sec\u001b[22m)\u001b[0m\u001b[1m0:00:14.4300\u001b[22m read: \u001b[0m\u001b[1m43.97 MRows\u001b[22m (\u001b[0m\u001b[1m3.05 MRows/sec\u001b[22m)\u001b[0m\u001b[1m0:00:15.1175\u001b[22m read: \u001b[0m\u001b[1m46.2 MRows\u001b[22m (\u001b[0m\u001b[1m3.06 MRows/sec\u001b[22m)\u001b[0m\u001b[1m0:00:15.6670\u001b[22m read: \u001b[0m\u001b[1m48.1 MRows\u001b[22m (\u001b[0m\u001b[1m3.07 MRows/sec\u001b[22m)\u001b[0m\u001b[1m0:00:16.1985\u001b[22m read: \u001b[0m\u001b[1m49.87 MRows\u001b[22m (\u001b[0m\u001b[1m3.08 MRows/sec\u001b[22m)\u001b[0m\u001b[1m0:00:16.9861\u001b[22m read: \u001b[0m\u001b[1m52.43 MRows\u001b[22m (\u001b[0m\u001b[1m3.09 MRows/sec\u001b[22m)\u001b[0m\u001b[1m0:00:17.3199\u001b[22m read: \u001b[0m\u001b[1m53.28 MRows\u001b[22m (\u001b[0m\u001b[1m3.08 MRows/sec\u001b[22m)\u001b[0m\u001b[1m0:00:17.8910\u001b[22m read: \u001b[0m\u001b[1m54.92 MRows\u001b[22m (\u001b[0m\u001b[1m3.07 MRows/sec\u001b[22m)\u001b[0m\u001b[1m0:00:18.6724\u001b[22m read: \u001b[0m\u001b[1m57.54 MRows\u001b[22m (\u001b[0m\u001b[1m3.08 MRows/sec\u001b[22m)\u001b[0m\u001b[1m0:00:19.1857\u001b[22m read: \u001b[0m\u001b[1m59.31 MRows\u001b[22m (\u001b[0m\u001b[1m3.09 MRows/sec\u001b[22m)\u001b[0m\u001b[1m0:00:20.5153\u001b[22m read: \u001b[0m\u001b[1m63.57 MRows\u001b[22m (\u001b[0m\u001b[1m3.1 MRows/sec\u001b[22m)\u001b[0m\u001b[1m0:00:21.0485\u001b[22m read: \u001b[0m\u001b[1m65.27 MRows\u001b[22m (\u001b[0m\u001b[1m3.1 MRows/sec\u001b[22m)\u001b[0m\u001b[1m0:00:21.4790\u001b[22m read: \u001b[0m\u001b[1m66.58 MRows\u001b[22m (\u001b[0m\u001b[1m3.1 MRows/sec\u001b[22m)\n"
     ]
    }
   ],
   "source": [
    "add_column!(table, :category_code, string_convert.(table.category_code_raw), before=:brand_raw)"
   ]
  },
  {
   "cell_type": "code",
   "execution_count": 163,
   "metadata": {},
   "outputs": [
    {
     "name": "stderr",
     "output_type": "stream",
     "text": [
      "Time: \u001b[0m\u001b[1m0:00:0.1047\u001b[22m read: \u001b[0m\u001b[1m67.5 MRows\u001b[22m (\u001b[0m\u001b[1m644.95 MRows/sec\u001b[22m))\n",
      "Time: \u001b[0m\u001b[1m0:00:0.1177\u001b[22m read: \u001b[0m\u001b[1m67.5 MRows\u001b[22m (\u001b[0m\u001b[1m573.71 MRows/sec\u001b[22m))\n",
      "Time: \u001b[0m\u001b[1m0:00:1.9799\u001b[22m read: \u001b[0m\u001b[1m67.5 MRows\u001b[22m (\u001b[0m\u001b[1m34.09 MRows/sec\u001b[22m))\n",
      "Time: \u001b[0m\u001b[1m0:00:20.6199\u001b[22m read: \u001b[0m\u001b[1m67.5 MRows\u001b[22m (\u001b[0m\u001b[1m3.27 MRows/sec\u001b[22m))\u001b[0m\u001b[1m0:00:0.6240\u001b[22m read: \u001b[0m\u001b[1m2.1 MRows\u001b[22m (\u001b[0m\u001b[1m3.36 MRows/sec\u001b[22m)\u001b[0m\u001b[1m0:00:1.9242\u001b[22m read: \u001b[0m\u001b[1m6.49 MRows\u001b[22m (\u001b[0m\u001b[1m3.37 MRows/sec\u001b[22m)\u001b[0m\u001b[1m0:00:2.5733\u001b[22m read: \u001b[0m\u001b[1m8.72 MRows\u001b[22m (\u001b[0m\u001b[1m3.39 MRows/sec\u001b[22m)\u001b[0m\u001b[1m0:00:3.9546\u001b[22m read: \u001b[0m\u001b[1m13.43 MRows\u001b[22m (\u001b[0m\u001b[1m3.4 MRows/sec\u001b[22m)\u001b[0m\u001b[1m0:00:4.4967\u001b[22m read: \u001b[0m\u001b[1m15.07 MRows\u001b[22m (\u001b[0m\u001b[1m3.35 MRows/sec\u001b[22m)\u001b[0m\u001b[1m0:00:6.2935\u001b[22m read: \u001b[0m\u001b[1m20.51 MRows\u001b[22m (\u001b[0m\u001b[1m3.26 MRows/sec\u001b[22m)\u001b[0m\u001b[1m0:00:6.9542\u001b[22m read: \u001b[0m\u001b[1m22.61 MRows\u001b[22m (\u001b[0m\u001b[1m3.25 MRows/sec\u001b[22m)\u001b[0m\u001b[1m0:00:8.1169\u001b[22m read: \u001b[0m\u001b[1m26.35 MRows\u001b[22m (\u001b[0m\u001b[1m3.25 MRows/sec\u001b[22m)\u001b[0m\u001b[1m0:00:11.0661\u001b[22m read: \u001b[0m\u001b[1m35.13 MRows\u001b[22m (\u001b[0m\u001b[1m3.17 MRows/sec\u001b[22m)\u001b[0m\u001b[1m0:00:11.9967\u001b[22m read: \u001b[0m\u001b[1m38.08 MRows\u001b[22m (\u001b[0m\u001b[1m3.17 MRows/sec\u001b[22m)\u001b[0m\u001b[1m0:00:14.8217\u001b[22m read: \u001b[0m\u001b[1m46.53 MRows\u001b[22m (\u001b[0m\u001b[1m3.14 MRows/sec\u001b[22m)\u001b[0m\u001b[1m3.15 MRows/sec\u001b[22m)\u001b[0m\u001b[1m0:00:16.2470\u001b[22m read: \u001b[0m\u001b[1m51.38 MRows\u001b[22m (\u001b[0m\u001b[1m3.16 MRows/sec\u001b[22m)\u001b[0m\u001b[1m0:00:16.7768\u001b[22m read: \u001b[0m\u001b[1m53.15 MRows\u001b[22m (\u001b[0m\u001b[1m3.17 MRows/sec\u001b[22m)\u001b[0m\u001b[1m0:00:17.2835\u001b[22m read: \u001b[0m\u001b[1m54.79 MRows\u001b[22m (\u001b[0m\u001b[1m3.17 MRows/sec\u001b[22m)\u001b[0m\u001b[1m0:00:17.9421\u001b[22m read: \u001b[0m\u001b[1m57.21 MRows\u001b[22m (\u001b[0m\u001b[1m3.19 MRows/sec\u001b[22m)\u001b[0m\u001b[1m0:00:18.5999\u001b[22m read: \u001b[0m\u001b[1m59.64 MRows\u001b[22m (\u001b[0m\u001b[1m3.21 MRows/sec\u001b[22m)\u001b[0m\u001b[1m0:00:19.3654\u001b[22m read: \u001b[0m\u001b[1m62.59 MRows\u001b[22m (\u001b[0m\u001b[1m3.23 MRows/sec\u001b[22m)\u001b[0m\u001b[1m0:00:20.0042\u001b[22m read: \u001b[0m\u001b[1m65.08 MRows\u001b[22m (\u001b[0m\u001b[1m3.25 MRows/sec\u001b[22m)\n"
     ]
    }
   ],
   "source": [
    "add_column!(table, :brand, string_convert.(table.brand_raw), before=:price)"
   ]
  },
  {
   "cell_type": "code",
   "execution_count": 164,
   "metadata": {},
   "outputs": [],
   "source": [
    "drop_column!(table, :event_type_raw)\n",
    "drop_column!(table, :category_code_raw)\n",
    "drop_column!(table, :brand_raw);"
   ]
  },
  {
   "cell_type": "markdown",
   "metadata": {},
   "source": [
    "## user_session в UUID"
   ]
  },
  {
   "cell_type": "code",
   "execution_count": 165,
   "metadata": {},
   "outputs": [],
   "source": [
    "using UUIDs"
   ]
  },
  {
   "cell_type": "markdown",
   "metadata": {},
   "source": [
    "### Определим кастомные тип колоноки для UUID"
   ]
  },
  {
   "cell_type": "code",
   "execution_count": 166,
   "metadata": {},
   "outputs": [],
   "source": [
    "DataFrameDBs.ColumnTypes.serialize(::Type{UUID}) = DataFrameDBs.ColumnTypes.Ast(Symbol(\"UUID\"))\n",
    "DataFrameDBs.ColumnTypes.deserialize(::Val{Symbol(\"UUID\")}) = UUIDs.UUID"
   ]
  },
  {
   "cell_type": "code",
   "execution_count": 167,
   "metadata": {},
   "outputs": [],
   "source": [
    "rename_column!(table, :user_session, :user_session_raw)"
   ]
  },
  {
   "cell_type": "code",
   "execution_count": 168,
   "metadata": {},
   "outputs": [
    {
     "data": {
      "text/plain": [
       "to_uuid (generic function with 1 method)"
      ]
     },
     "execution_count": 168,
     "metadata": {},
     "output_type": "execute_result"
    }
   ],
   "source": [
    "to_uuid(s) = ismissing(s) ? UUID(0) : UUID(s)"
   ]
  },
  {
   "cell_type": "code",
   "execution_count": 129,
   "metadata": {},
   "outputs": [
    {
     "data": {
      "text/plain": [
       "DFColumn{UUID}"
      ]
     },
     "execution_count": 129,
     "metadata": {},
     "output_type": "execute_result"
    }
   ],
   "source": [
    "uuid = UUID.(table.user_session_raw)"
   ]
  },
  {
   "cell_type": "code",
   "execution_count": 169,
   "metadata": {},
   "outputs": [
    {
     "name": "stderr",
     "output_type": "stream",
     "text": [
      "Time: \u001b[0m\u001b[1m0:00:0.0496\u001b[22m read: \u001b[0m\u001b[1m67.5 MRows\u001b[22m (\u001b[0m\u001b[1m1.36 BRows/sec\u001b[22m)\n",
      "Time: \u001b[0m\u001b[1m0:00:0.0486\u001b[22m read: \u001b[0m\u001b[1m67.5 MRows\u001b[22m (\u001b[0m\u001b[1m1.39 BRows/sec\u001b[22m)\n",
      "Time: \u001b[0m\u001b[1m0:00:0.3786\u001b[22m read: \u001b[0m\u001b[1m67.5 MRows\u001b[22m (\u001b[0m\u001b[1m178.28 MRows/sec\u001b[22m))\n",
      "Time: \u001b[0m\u001b[1m0:00:26.9523\u001b[22m read: \u001b[0m\u001b[1m67.5 MRows\u001b[22m (\u001b[0m\u001b[1m2.5 MRows/sec\u001b[22m)m)\u001b[0m\u001b[1m0:00:0.6499\u001b[22m read: \u001b[0m\u001b[1m1.64 MRows\u001b[22m (\u001b[0m\u001b[1m2.52 MRows/sec\u001b[22m)\u001b[0m\u001b[1m2.6 MRows/sec\u001b[22m)\u001b[0m\u001b[1m0:00:2.2916\u001b[22m read: \u001b[0m\u001b[1m6.03 MRows\u001b[22m (\u001b[0m\u001b[1m2.63 MRows/sec\u001b[22m)\u001b[0m\u001b[1m0:00:2.8294\u001b[22m read: \u001b[0m\u001b[1m7.47 MRows\u001b[22m (\u001b[0m\u001b[1m2.64 MRows/sec\u001b[22m)\u001b[0m\u001b[1m0:00:3.5250\u001b[22m read: \u001b[0m\u001b[1m9.31 MRows\u001b[22m (\u001b[0m\u001b[1m2.64 MRows/sec\u001b[22m)\u001b[0m\u001b[1m0:00:4.0955\u001b[22m read: \u001b[0m\u001b[1m10.75 MRows\u001b[22m (\u001b[0m\u001b[1m2.62 MRows/sec\u001b[22m)\u001b[0m\u001b[1m0:00:5.0159\u001b[22m read: \u001b[0m\u001b[1m13.3 MRows\u001b[22m (\u001b[0m\u001b[1m2.65 MRows/sec\u001b[22m)\u001b[0m\u001b[1m0:00:5.8208\u001b[22m read: \u001b[0m\u001b[1m15.53 MRows\u001b[22m (\u001b[0m\u001b[1m2.67 MRows/sec\u001b[22m)\u001b[0m\u001b[1m0:00:6.6555\u001b[22m read: \u001b[0m\u001b[1m17.83 MRows\u001b[22m (\u001b[0m\u001b[1m2.68 MRows/sec\u001b[22m)\u001b[0m\u001b[1m0:00:7.8937\u001b[22m read: \u001b[0m\u001b[1m21.04 MRows\u001b[22m (\u001b[0m\u001b[1m2.67 MRows/sec\u001b[22m)\u001b[0m\u001b[1m0:00:8.8422\u001b[22m read: \u001b[0m\u001b[1m23.53 MRows\u001b[22m (\u001b[0m\u001b[1m2.66 MRows/sec\u001b[22m)\u001b[0m\u001b[1m0:00:9.4080\u001b[22m read: \u001b[0m\u001b[1m24.97 MRows\u001b[22m (\u001b[0m\u001b[1m2.65 MRows/sec\u001b[22m)\u001b[0m\u001b[1m0:00:10.1026\u001b[22m read: \u001b[0m\u001b[1m26.74 MRows\u001b[22m (\u001b[0m\u001b[1m2.65 MRows/sec\u001b[22m)\u001b[0m\u001b[1m0:00:10.6606\u001b[22m read: \u001b[0m\u001b[1m28.18 MRows\u001b[22m (\u001b[0m\u001b[1m2.64 MRows/sec\u001b[22m)\u001b[0m\u001b[1m0:00:12.1582\u001b[22m read: \u001b[0m\u001b[1m32.11 MRows\u001b[22m (\u001b[0m\u001b[1m2.64 MRows/sec\u001b[22m)\u001b[0m\u001b[1m0:00:12.8593\u001b[22m read: \u001b[0m\u001b[1m33.88 MRows\u001b[22m (\u001b[0m\u001b[1m2.63 MRows/sec\u001b[22m)\u001b[0m\u001b[1m0:00:13.3982\u001b[22m read: \u001b[0m\u001b[1m35.26 MRows\u001b[22m (\u001b[0m\u001b[1m2.63 MRows/sec\u001b[22m)\u001b[0m\u001b[1m0:00:13.9533\u001b[22m read: \u001b[0m\u001b[1m36.63 MRows\u001b[22m (\u001b[0m\u001b[1m2.63 MRows/sec\u001b[22m)\u001b[0m\u001b[1m0:00:14.3939\u001b[22m read: \u001b[0m\u001b[1m37.75 MRows\u001b[22m (\u001b[0m\u001b[1m2.62 MRows/sec\u001b[22m)\u001b[0m\u001b[1m0:00:14.9180\u001b[22m read: \u001b[0m\u001b[1m39.06 MRows\u001b[22m (\u001b[0m\u001b[1m2.62 MRows/sec\u001b[22m)\u001b[0m\u001b[1m0:00:15.5834\u001b[22m read: \u001b[0m\u001b[1m40.7 MRows\u001b[22m (\u001b[0m\u001b[1m2.61 MRows/sec\u001b[22m)\u001b[0m\u001b[1m0:00:16.1322\u001b[22m read: \u001b[0m\u001b[1m42.07 MRows\u001b[22m (\u001b[0m\u001b[1m2.61 MRows/sec\u001b[22m)\u001b[0m\u001b[1m0:00:16.8260\u001b[22m read: \u001b[0m\u001b[1m43.78 MRows\u001b[22m (\u001b[0m\u001b[1m2.6 MRows/sec\u001b[22m)\u001b[0m\u001b[1m0:00:17.3876\u001b[22m read: \u001b[0m\u001b[1m45.15 MRows\u001b[22m (\u001b[0m\u001b[1m2.6 MRows/sec\u001b[22m)\u001b[0m\u001b[1m0:00:17.8108\u001b[22m read: \u001b[0m\u001b[1m46.14 MRows\u001b[22m (\u001b[0m\u001b[1m2.59 MRows/sec\u001b[22m)\u001b[0m\u001b[1m0:00:18.3503\u001b[22m read: \u001b[0m\u001b[1m47.45 MRows\u001b[22m (\u001b[0m\u001b[1m2.59 MRows/sec\u001b[22m)\u001b[0m\u001b[1m0:00:18.9088\u001b[22m read: \u001b[0m\u001b[1m48.82 MRows\u001b[22m (\u001b[0m\u001b[1m2.58 MRows/sec\u001b[22m)\u001b[0m\u001b[1m0:00:19.5842\u001b[22m read: \u001b[0m\u001b[1m50.46 MRows\u001b[22m (\u001b[0m\u001b[1m2.58 MRows/sec\u001b[22m)\u001b[0m\u001b[1m0:00:20.2638\u001b[22m read: \u001b[0m\u001b[1m52.1 MRows\u001b[22m (\u001b[0m\u001b[1m2.57 MRows/sec\u001b[22m)\u001b[0m\u001b[1m0:00:20.7972\u001b[22m read: \u001b[0m\u001b[1m53.41 MRows\u001b[22m (\u001b[0m\u001b[1m2.57 MRows/sec\u001b[22m)\u001b[0m\u001b[1m0:00:21.3404\u001b[22m read: \u001b[0m\u001b[1m54.72 MRows\u001b[22m (\u001b[0m\u001b[1m2.56 MRows/sec\u001b[22m)\u001b[0m\u001b[1m0:00:22.3199\u001b[22m read: \u001b[0m\u001b[1m57.08 MRows\u001b[22m (\u001b[0m\u001b[1m2.56 MRows/sec\u001b[22m)\u001b[0m\u001b[1m0:00:22.7440\u001b[22m read: \u001b[0m\u001b[1m58.13 MRows\u001b[22m (\u001b[0m\u001b[1m2.56 MRows/sec\u001b[22m)\u001b[0m\u001b[1m0:00:23.2790\u001b[22m read: \u001b[0m\u001b[1m59.44 MRows\u001b[22m (\u001b[0m\u001b[1m2.55 MRows/sec\u001b[22m)\u001b[0m\u001b[1m0:00:23.8167\u001b[22m read: \u001b[0m\u001b[1m60.75 MRows\u001b[22m (\u001b[0m\u001b[1m2.55 MRows/sec\u001b[22m)\u001b[0m\u001b[1m0:00:24.3652\u001b[22m read: \u001b[0m\u001b[1m62.06 MRows\u001b[22m (\u001b[0m\u001b[1m2.55 MRows/sec\u001b[22m)\u001b[0m\u001b[1m0:00:24.9244\u001b[22m read: \u001b[0m\u001b[1m63.37 MRows\u001b[22m (\u001b[0m\u001b[1m2.54 MRows/sec\u001b[22m)\u001b[0m\u001b[1m0:00:25.3552\u001b[22m read: \u001b[0m\u001b[1m64.36 MRows\u001b[22m (\u001b[0m\u001b[1m2.54 MRows/sec\u001b[22m)\u001b[0m\u001b[1m0:00:25.6825\u001b[22m read: \u001b[0m\u001b[1m65.01 MRows\u001b[22m (\u001b[0m\u001b[1m2.53 MRows/sec\u001b[22m)\u001b[0m\u001b[1m0:00:26.1936\u001b[22m read: \u001b[0m\u001b[1m65.93 MRows\u001b[22m (\u001b[0m\u001b[1m2.52 MRows/sec\u001b[22m)\u001b[0m\u001b[1m0:00:26.6192\u001b[22m read: \u001b[0m\u001b[1m66.78 MRows\u001b[22m (\u001b[0m\u001b[1m2.51 MRows/sec\u001b[22m)\n"
     ]
    }
   ],
   "source": [
    "add_column!(table, :user_session, to_uuid.(table.user_session_raw), before=:user_session_raw)"
   ]
  },
  {
   "cell_type": "code",
   "execution_count": 172,
   "metadata": {},
   "outputs": [
    {
     "name": "stdout",
     "output_type": "stream",
     "text": [
      "DFTable path: ecommerce\n",
      "10×6 DataFrame"
     ]
    },
    {
     "data": {
      "text/plain": []
     },
     "execution_count": 172,
     "metadata": {},
     "output_type": "execute_result"
    },
    {
     "name": "stdout",
     "output_type": "stream",
     "text": [
      "\n",
      "│ Row │ column        │ type     │ rows       │ uncompressed size │ compressed size │ compression ratio │\n",
      "│     │ \u001b[90mSymbol\u001b[39m        │ \u001b[90mString\u001b[39m   │ \u001b[90mString\u001b[39m     │ \u001b[90mString\u001b[39m            │ \u001b[90mString\u001b[39m          │ \u001b[90mFloat64\u001b[39m           │\n",
      "├─────┼───────────────┼──────────┼────────────┼───────────────────┼─────────────────┼───────────────────┤\n",
      "│ 1   │ event_time    │ DateTime │ 67.5 MRows │ 515.0 MB          │ 22.05 MB        │ 23.36             │\n",
      "│ 2   │ event_type    │ String   │ 67.5 MRows │ 518.5 MB          │ 28.03 MB        │ 18.5              │\n",
      "│ 3   │ product_id    │ Int64    │ 67.5 MRows │ 515.0 MB          │ 249.36 MB       │ 2.07              │\n",
      "│ 4   │ category_id   │ Int64    │ 67.5 MRows │ 515.0 MB          │ 184.1 MB        │ 2.8               │\n",
      "│ 5   │ category_code │ String   │ 67.5 MRows │ 1.2 GB            │ 288.77 MB       │ 4.26              │\n",
      "│ 6   │ brand         │ String   │ 67.5 MRows │ 588.95 MB         │ 258.98 MB       │ 2.27              │\n",
      "│ 7   │ price         │ Float64  │ 67.5 MRows │ 515.0 MB          │ 292.17 MB       │ 1.76              │\n",
      "│ 8   │ user_id       │ Int64    │ 67.5 MRows │ 515.0 MB          │ 270.7 MB        │ 1.9               │\n",
      "│ 9   │ user_session  │ UUID     │ 67.5 MRows │ 1.01 GB           │ 714.7 MB        │ 1.44              │\n",
      "│ 10  │ Table total   │          │ 67.5 MRows │ 5.8 GB            │ 2.25 GB         │ 2.57              │\n"
     ]
    }
   ],
   "source": [
    "drop_column!(table, :user_session_raw)"
   ]
  },
  {
   "cell_type": "markdown",
   "metadata": {},
   "source": [
    "## Итогавая таблица"
   ]
  },
  {
   "cell_type": "code",
   "execution_count": null,
   "metadata": {},
   "outputs": [],
   "source": []
  },
  {
   "cell_type": "code",
   "execution_count": 173,
   "metadata": {},
   "outputs": [
    {
     "name": "stdout",
     "output_type": "stream",
     "text": [
      "DFTable path: ecommerce\n",
      "10×6 DataFrame"
     ]
    },
    {
     "data": {
      "text/plain": []
     },
     "execution_count": 173,
     "metadata": {},
     "output_type": "execute_result"
    },
    {
     "name": "stdout",
     "output_type": "stream",
     "text": [
      "\n",
      "│ Row │ column        │ type     │ rows       │ uncompressed size │ compressed size │ compression ratio │\n",
      "│     │ \u001b[90mSymbol\u001b[39m        │ \u001b[90mString\u001b[39m   │ \u001b[90mString\u001b[39m     │ \u001b[90mString\u001b[39m            │ \u001b[90mString\u001b[39m          │ \u001b[90mFloat64\u001b[39m           │\n",
      "├─────┼───────────────┼──────────┼────────────┼───────────────────┼─────────────────┼───────────────────┤\n",
      "│ 1   │ event_time    │ DateTime │ 67.5 MRows │ 515.0 MB          │ 22.05 MB        │ 23.36             │\n",
      "│ 2   │ event_type    │ String   │ 67.5 MRows │ 518.5 MB          │ 28.03 MB        │ 18.5              │\n",
      "│ 3   │ product_id    │ Int64    │ 67.5 MRows │ 515.0 MB          │ 249.36 MB       │ 2.07              │\n",
      "│ 4   │ category_id   │ Int64    │ 67.5 MRows │ 515.0 MB          │ 184.1 MB        │ 2.8               │\n",
      "│ 5   │ category_code │ String   │ 67.5 MRows │ 1.2 GB            │ 288.77 MB       │ 4.26              │\n",
      "│ 6   │ brand         │ String   │ 67.5 MRows │ 588.95 MB         │ 258.98 MB       │ 2.27              │\n",
      "│ 7   │ price         │ Float64  │ 67.5 MRows │ 515.0 MB          │ 292.17 MB       │ 1.76              │\n",
      "│ 8   │ user_id       │ Int64    │ 67.5 MRows │ 515.0 MB          │ 270.7 MB        │ 1.9               │\n",
      "│ 9   │ user_session  │ UUID     │ 67.5 MRows │ 1.01 GB           │ 714.7 MB        │ 1.44              │\n",
      "│ 10  │ Table total   │          │ 67.5 MRows │ 5.8 GB            │ 2.25 GB         │ 2.57              │\n"
     ]
    }
   ],
   "source": [
    "table"
   ]
  }
 ],
 "metadata": {
  "kernelspec": {
   "display_name": "Julia 1.6 1.6.1",
   "language": "julia",
   "name": "julia-1.6-1.6"
  },
  "language_info": {
   "file_extension": ".jl",
   "mimetype": "application/julia",
   "name": "julia",
   "version": "1.6.1"
  }
 },
 "nbformat": 4,
 "nbformat_minor": 4
}
