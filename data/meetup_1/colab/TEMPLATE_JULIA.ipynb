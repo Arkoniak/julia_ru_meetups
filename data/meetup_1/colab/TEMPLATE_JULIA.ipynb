{
  "nbformat": 4,
  "nbformat_minor": 0,
  "metadata": {
    "colab": {
      "name": "ШАБЛОН JULIA.ipynb",
      "provenance": [],
      "collapsed_sections": []
    },
    "kernelspec": {
      "name": "julia",
      "display_name": "Julia"
    }
  },
  "cells": [
    {
      "cell_type": "markdown",
      "metadata": {
        "id": "6Id8ZZ_vBBhY"
      },
      "source": [
        "# Блокнот-шаблон для работы на Julia в Google Colab Notebook\n",
        "\n",
        "Порядок действий:\n",
        "- Пересохраните себе блокнот *Файл -> Сохранить копию на Диске*\n",
        "- При необходимости подключите аппаратный ускоритель *Среда выполнения -> Сменить среду выполнения -> Аппаратный ускоритель*\n",
        "- Отредактируйте параметры установки \n",
        "  - `JULIA_VERSION` - версия Julia\n",
        "  - `JULIA_PACKAGES` - предустанавливаемые пакеты\n",
        "  - `JULIA_PACKAGES_IF_GPU` - пакеты для работы на ГПУ\n",
        "  - `JULIA_NUM_THREADS` - число потоков\n",
        "- Выполните первую ячейку\n",
        "- Перезагрузите страницу (*F5*)"
      ]
    },
    {
      "cell_type": "code",
      "metadata": {
        "id": "ENzqsEtNdJ85"
      },
      "source": [
        "%%shell \n",
        "set -e \n",
        " \n",
        "#---------------------------------------------#\n",
        "JULIA_VERSION=\"1.6.1\"\n",
        "JULIA_PACKAGES=\"BenchmarkTools PyPlot\"\n",
        "JULIA_PACKAGES_IF_GPU=\"CUDA\"\n",
        "JULIA_NUM_THREADS=4\n",
        "#---------------------------------------------#\n",
        " \n",
        "if [ -n \"$COLAB_GPU\" ] && [ -z `which julia` ]; then \n",
        "  \n",
        "  # Установка Julia\n",
        "  JULIA_VER=`cut -d '.' -f -2 <<< \"$JULIA_VERSION\"` \n",
        "  echo \"Установка Julia $JULIA_VERSION...\"\n",
        "  BASE_URL=\"https://julialang-s3.julialang.org/bin/linux/x64\"\n",
        "  URL=\"$BASE_URL/$JULIA_VER/julia-$JULIA_VERSION-linux-x86_64.tar.gz\"\n",
        "  wget -nv $URL -O /tmp/julia.tar.gz\n",
        "  tar xf /tmp/julia.tar.gz -C /usr/local --strip-components 1\n",
        "  rm /tmp/julia.tar.gz\n",
        "   \n",
        "  # Установка ядра и переименование на \"julia\"\n",
        "  echo \"Установка ядра IJulia...\"\n",
        "  julia -e 'using Pkg; Pkg.add(\"IJulia\"); using IJulia; \n",
        "  IJulia.installkernel(\"julia\", env=Dict(\"JULIA_NUM_THREADS\"=>\"'\"$JULIA_NUM_THREADS\"'\"))'\n",
        "  echo \"Переименование ядра на 'julia'...\"\n",
        "  KERNEL_DIR=`julia -e \"using IJulia; print(IJulia.kerneldir())\"`\n",
        "  KERNEL_NAME=`ls -d \"$KERNEL_DIR\"/julia*` \n",
        "  mv -f $KERNEL_NAME \"$KERNEL_DIR\"/julia\n",
        "    \n",
        "  # Установка дополнительных пакетов\n",
        "  if [ \"$COLAB_GPU\" = \"1\" ]; then\n",
        "      JULIA_PACKAGES=\"$JULIA_PACKAGES $JULIA_PACKAGES_IF_GPU\"\n",
        "  fi\n",
        "  for PKG in `echo $JULIA_PACKAGES`; do                        \n",
        "    echo \"Установка Julia-пакета $PKG...\"\n",
        "    julia -e 'using Pkg; Pkg.add(\"'\"$PKG\"'\")'\n",
        "  done \n",
        "       \n",
        "  echo ''\n",
        "  echo \"Вуаля! Перезагрузите страницу прежде, чем приступить к работе.\"\n",
        "fi"
      ],
      "execution_count": null,
      "outputs": []
    }
  ]
}