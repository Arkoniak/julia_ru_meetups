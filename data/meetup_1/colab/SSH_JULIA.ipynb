{
  "nbformat": 4,
  "nbformat_minor": 0,
  "metadata": {
    "colab": {
      "name": "SSH JULIA.ipynb",
      "provenance": [],
      "collapsed_sections": []
    },
    "kernelspec": {
      "name": "python3",
      "display_name": "Python 3"
    }
  },
  "cells": [
    {
      "cell_type": "markdown",
      "metadata": {
        "id": "H2EQPNLcD61N"
      },
      "source": [
        "# Блокнот для подключения к Google Colab по ssh\n",
        "\n",
        "Порядок действий\n",
        "1. Пересохраните себе блокнот *Файл -> Сохранить копию на Диске*\n",
        "2. При необходимости подключите аппаратный ускоритель *Среда выполнения -> Сменить среду выполнения -> Аппаратный ускоритель*\n",
        "3. Запустите первую ячейку\n",
        "4. Введите свой Ngrok-токен (получить на ngrok.com)\n",
        "5. Задайте пароль для подключения к виртуальной машине\n",
        "6. Выполните вторую ячейку установки Julia (опционально)\n",
        "7. Подключитесь к виртуальной машине `ssh -p <port> root@<HostName>` \n",
        "8. После работы закройте ssh-туннель `kill $(pgrep ngrok)` "
      ]
    },
    {
      "cell_type": "code",
      "metadata": {
        "id": "P9ZWACoUrW4n"
      },
      "source": [
        "!pip install colab_ssh --upgrade\n",
        "\n",
        "import getpass; \n",
        "from colab_ssh import launch_ssh; \n",
        "\n",
        "print('Ngrok-токен :'); \n",
        "authtoken = getpass.getpass();\n",
        "\n",
        "print('Пароль :'); \n",
        "password = getpass.getpass();\n",
        "\n",
        "launch_ssh(authtoken, password, False, 'eu');"
      ],
      "execution_count": null,
      "outputs": []
    },
    {
      "cell_type": "markdown",
      "metadata": {
        "id": "XCNneIH_JAH6"
      },
      "source": [
        "Отредактируйте параметры установки\n",
        "- `JULIA_VERSION` - версия Julia\n",
        "- `JULIA_PACKAGES` - предустанавливаемые пакеты\n",
        "- `JULIA_PACKAGES_IF_GPU` - пакеты для работы на ГПУ\n",
        "- `GDRIVE` - подключение Диска Google"
      ]
    },
    {
      "cell_type": "code",
      "metadata": {
        "id": "EHoaYztim0K6"
      },
      "source": [
        "%%shell \n",
        "set -e \n",
        " \n",
        "#---------------------------------------------#\n",
        "JULIA_VERSION=\"1.6.1\"\n",
        "JULIA_PACKAGES=\"BenchmarkTools Revise\"\n",
        "JULIA_PACKAGES_IF_GPU=\"CUDA\"\n",
        "GDRIVE=false\n",
        "#---------------------------------------------#\n",
        " \n",
        "if [ -n \"$COLAB_GPU\" ] && [ -z `which julia` ]; then \n",
        "  \n",
        "  # Установка Julia\n",
        "  JULIA_VER=`cut -d '.' -f -2 <<< \"$JULIA_VERSION\"` \n",
        "  echo \"Установка Julia $JULIA_VERSION...\"\n",
        "  BASE_URL=\"https://julialang-s3.julialang.org/bin/linux/x64\"\n",
        "  URL=\"$BASE_URL/$JULIA_VER/julia-$JULIA_VERSION-linux-x86_64.tar.gz\"\n",
        "  wget -nv $URL -O /tmp/julia.tar.gz\n",
        "  tar xf /tmp/julia.tar.gz -C /usr/local --strip-components 1\n",
        "  rm /tmp/julia.tar.gz\n",
        " \n",
        "  # Установка дополнительных пакетов\n",
        "  if [ \"$COLAB_GPU\" = \"1\" ]; then\n",
        "      JULIA_PACKAGES=\"$JULIA_PACKAGES $JULIA_PACKAGES_IF_GPU\"\n",
        "  fi\n",
        "  for PKG in `echo $JULIA_PACKAGES`; do                        \n",
        "    echo \"Установка Julia-пакета $PKG...\"\n",
        "    julia -e 'using Pkg; Pkg.add(\"'\"$PKG\"'\");'\n",
        "  done \n",
        " \n",
        "  # Установка менеджера файлов Midnight Commander \n",
        "  echo \"Установка mc\"\n",
        "  apt-get install mc\n",
        " \n",
        "fi  \n",
        " \n",
        "# Подключение Диска Google\n",
        "if $GDRIVE ; then\n",
        "  echo \"Подключение Диска Google...\"\n",
        "  python3 -c \"from google.colab import drive;  drive.mount('/content/drive')\"\n",
        "fi"
      ],
      "execution_count": null,
      "outputs": []
    }
  ]
}